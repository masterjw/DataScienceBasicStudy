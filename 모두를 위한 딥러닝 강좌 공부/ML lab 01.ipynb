{
 "cells": [
  {
   "cell_type": "markdown",
   "metadata": {},
   "source": [
    "# ML lab 01 - TensorFlow의 설치\n",
    "\n",
    "### TensorFlow\n",
    "* 텐서플로우는 data flow graph를 사용하여 numerical computation을 하는 라이브러리\n",
    "* Python, 구글이 맹금\n",
    "\n",
    "### What is a Data Flow Graph?\n",
    "* 그래프에서의 각 노드는 mathematical operation을 나타냄\n",
    "* 에지는 multidimensional data arrays(tensors)가 노드와 communicate하는 것을 나타냄"
   ]
  },
  {
   "cell_type": "markdown",
   "metadata": {},
   "source": [
    "### Installing TensorFlow\n",
    "* OSX\n",
    "    * pip3 install --upgrade tensorflow\n",
    "    * pip3 install --upgrade tensorflow-gpu\n",
    "* gpu version 사용을 위해서는 [cuda toolkit](https://developer.nvidia.com/cuda-downloads)과 [cuDnn](https://developer.nvidia.com/rdp/cudnn-download) 설치 필요함\n",
    "* version(OSX 10.11 기준)\n",
    "    * python 3.6.2\n",
    "    * tensorflow 1.1.0, cuda toolkit 8.0, cuDNN 5.1설치함\n"
   ]
  },
  {
   "cell_type": "code",
   "execution_count": 2,
   "metadata": {},
   "outputs": [
    {
     "data": {
      "text/plain": [
       "'1.1.0'"
      ]
     },
     "execution_count": 2,
     "metadata": {},
     "output_type": "execute_result"
    }
   ],
   "source": [
    "import tensorflow as tf  # tensorflow 설치 결과 확인\n",
    "tf.__version__   "
   ]
  },
  {
   "cell_type": "code",
   "execution_count": 3,
   "metadata": {},
   "outputs": [
    {
     "name": "stdout",
     "output_type": "stream",
     "text": [
      "b'Hello, TensorFlow!'\n"
     ]
    }
   ],
   "source": [
    "# Hello world!\n",
    "\n",
    "# Create a constant op\n",
    "# This op is added as a node to the default graph\n",
    "hello = tf.constant(\"Hello, TensorFlow!\")\n",
    "\n",
    "# seart a TF session\n",
    "sess = tf.Session()\n",
    "\n",
    "# run the op and get result\n",
    "print(sess.run(hello))\n"
   ]
  },
  {
   "cell_type": "markdown",
   "metadata": {
    "collapsed": true
   },
   "source": [
    "### Computational Graph"
   ]
  },
  {
   "cell_type": "code",
   "execution_count": 3,
   "metadata": {},
   "outputs": [],
   "source": [
    "node1 = tf.constant(3.0, tf.float32)\n",
    "node2 = tf.constant(4.0) # 암묵적으로 tf.float32로 적용\n",
    "node3 = tf.add(node1, node2) # node1 + node2"
   ]
  },
  {
   "cell_type": "code",
   "execution_count": 4,
   "metadata": {},
   "outputs": [
    {
     "name": "stdout",
     "output_type": "stream",
     "text": [
      "node1: Tensor(\"Const:0\", shape=(), dtype=float32) node2: Tensor(\"Const_1:0\", shape=(), dtype=float32)\n",
      "node3:  Tensor(\"Add:0\", shape=(), dtype=float32)\n"
     ]
    }
   ],
   "source": [
    "print(\"node1:\", node1, \"node2:\", node2)\n",
    "print(\"node3: \", node3)"
   ]
  },
  {
   "cell_type": "code",
   "execution_count": 5,
   "metadata": {},
   "outputs": [
    {
     "name": "stdout",
     "output_type": "stream",
     "text": [
      "sess.run(node1, node2):  [3.0, 4.0]\n",
      "sess.run(node3):  7.0\n"
     ]
    }
   ],
   "source": [
    "sess = tf.Session()\n",
    "print(\"sess.run(node1, node2): \", sess.run([node1, node2]))\n",
    "print(\"sess.run(node3): \", sess.run(node3))"
   ]
  },
  {
   "cell_type": "markdown",
   "metadata": {},
   "source": [
    "### TensorFlow Mechanics\n",
    "1. 텐서플로우 오퍼레이션을 사용하여 그래프를 빌드함\n",
    "2. 데이터를 입력하여 그래프(오퍼레이션)을 실행한다 ```sess.run(op)```\n",
    "3. 그래프 안의 변수들이 업데이트되거나 결과값이 반환된다."
   ]
  },
  {
   "cell_type": "markdown",
   "metadata": {},
   "source": [
    "### Placeholder\n",
    "각 노드의 값을 실행 시점에 넣어주고 싶을 때 ```placeholder``` 사용"
   ]
  },
  {
   "cell_type": "code",
   "execution_count": 6,
   "metadata": {},
   "outputs": [
    {
     "name": "stdout",
     "output_type": "stream",
     "text": [
      "7.5\n",
      "[ 3.  7.]\n"
     ]
    }
   ],
   "source": [
    "a = tf.placeholder(tf.float32)\n",
    "b = tf.placeholder(tf.float32)\n",
    "adder_node = a + b # + provides a shorcut for tf.add(a, b)\n",
    "\n",
    "print(sess.run(adder_node, feed_dict={a: 3, b: 4.5}))\n",
    "print(sess.run(adder_node, feed_dict={a: [1, 3], b: [2, 4]}))"
   ]
  },
  {
   "cell_type": "markdown",
   "metadata": {},
   "source": [
    "### Everything is **TENSOR**\n",
    "\n",
    "Tensor Ranks, Shapes, and Types\n",
    "\n",
    "Rank | Math entity | Shape | Dimension number \n",
    "---- | ----------- | ----- | ---------------\n",
    "0    | Scalar(magnitude only) | [] | 0-D\n",
    "1    | Vector(magnitude and direction) | [D0] | 1-D\n",
    "2    | Matrix(table of numbers) | [D0, D1] | 2-D\n",
    "3    | 3-Tensor(cube of numbers) | [D0, D1, D2] | 3-D\n",
    "n    | n-Tensor(you get the idea) | [D0, D1, ... Dn-1] | n-D\n",
    "\n",
    "Types \n",
    "* tf.float32, tf.float64\n",
    "* tf.int8, tf.int16, tf.int32, tf.int64"
   ]
  },
  {
   "cell_type": "code",
   "execution_count": 7,
   "metadata": {},
   "outputs": [
    {
     "data": {
      "text/plain": [
       "[[[1.0, 2.0, 3.0]], [[7.0, 8.0, 9.0]]]"
      ]
     },
     "execution_count": 7,
     "metadata": {},
     "output_type": "execute_result"
    }
   ],
   "source": [
    "3 # a rank 0 tensor; this is a scalar with shape []\n",
    "[1., 2., 3.] # a rank 1 tensor; this is a vector with shape [3]\n",
    "[[1., 2., 3.], [4., 5., 6.]] # a rank 2 tensor; a matrix with shape [2, 3]\n",
    "[[[1., 2., 3.]], [[7., 8., 9.]]] # a rank 3 tensor tensor with shape [2, 1, 3]"
   ]
  }
 ],
 "metadata": {
  "kernelspec": {
   "display_name": "Python 3",
   "language": "python",
   "name": "python3"
  },
  "language_info": {
   "codemirror_mode": {
    "name": "ipython",
    "version": 3
   },
   "file_extension": ".py",
   "mimetype": "text/x-python",
   "name": "python",
   "nbconvert_exporter": "python",
   "pygments_lexer": "ipython3",
   "version": "3.6.2"
  }
 },
 "nbformat": 4,
 "nbformat_minor": 2
}
