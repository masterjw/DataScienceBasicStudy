{
 "cells": [
  {
   "cell_type": "markdown",
   "metadata": {},
   "source": [
    "# ML lab 02 - TensorFlow로 간단한 Linear Regression 구현"
   ]
  },
  {
   "cell_type": "markdown",
   "metadata": {
    "collapsed": true
   },
   "source": [
    "### Hypothesis and cost function\n",
    "$$H(x) = Wx + b $$\n",
    "$$cost(W,b)=\\frac{1}{m} \\sum_{i=1}^m ( H( x^{(i)} ) - y^{(i)} )^2$$\n",
    "* H: 가설, W: Weight, b: bias\n",
    "* 학습 : W, b를 조정하여 cost 함수를 minimize하는 것"
   ]
  },
  {
   "cell_type": "markdown",
   "metadata": {},
   "source": [
    "#### 1. Build graph using TF operations\n",
    "$$H(x) = Wx + b $$"
   ]
  },
  {
   "cell_type": "code",
   "execution_count": 1,
   "metadata": {
    "collapsed": true
   },
   "outputs": [],
   "source": [
    "import tensorflow as tf\n",
    "\n",
    "# X and Y data\n",
    "x_train = [1, 2, 3]\n",
    "y_train = [1, 2, 3]\n",
    "\n",
    "W = tf.Variable(tf.random_normal([1]), name='weight')\n",
    "b = tf.Variable(tf.random_normal([1]), name='bias')\n",
    "# Our hypothesis XW+b\n",
    "hypothesis = x_train * W + b"
   ]
  },
  {
   "cell_type": "markdown",
   "metadata": {},
   "source": [
    "$$ cost(W,b) = \\frac{1}{m} \\sum_{i=1}^m (H(x^{(i)}) - y^{(i)})^2 $$"
   ]
  },
  {
   "cell_type": "code",
   "execution_count": 2,
   "metadata": {
    "collapsed": true
   },
   "outputs": [],
   "source": [
    "# cost/ loss function\n",
    "cost = tf.reduce_mean(tf.square(hypothesis - y_train))"
   ]
  },
  {
   "cell_type": "markdown",
   "metadata": {},
   "source": [
    "* GradientDescent"
   ]
  },
  {
   "cell_type": "code",
   "execution_count": 3,
   "metadata": {
    "collapsed": true
   },
   "outputs": [],
   "source": [
    "# Minimize\n",
    "optimizer = tf.train.GradientDescentOptimizer(learning_rate=0.01)\n",
    "train = optimizer.minimize(cost)"
   ]
  },
  {
   "cell_type": "markdown",
   "metadata": {},
   "source": [
    "#### 2~3. Run/update graph and get results"
   ]
  },
  {
   "cell_type": "code",
   "execution_count": 4,
   "metadata": {},
   "outputs": [
    {
     "name": "stdout",
     "output_type": "stream",
     "text": [
      "0 nan [ nan] [ nan]\n",
      "20 4.2039e-45 [ nan] [ nan]\n",
      "40 4.2039e-45 [ nan] [ nan]\n",
      "60 4.2039e-45 [ nan] [ nan]\n",
      "80 nan [ nan] [ nan]\n",
      "100 nan [ nan] [ nan]\n",
      "120 nan [ nan] [ nan]\n",
      "140 nan [ nan] [ nan]\n",
      "160 nan [ nan] [ nan]\n",
      "180 nan [ nan] [ nan]\n",
      "200 nan [ nan] [ nan]\n",
      "220 nan [ nan] [ nan]\n",
      "240 nan [ nan] [ nan]\n",
      "260 nan [ nan] [ nan]\n",
      "280 nan [ nan] [ nan]\n",
      "300 nan [ nan] [ nan]\n",
      "320 nan [ nan] [ nan]\n",
      "340 nan [ nan] [ nan]\n",
      "360 nan [ nan] [ nan]\n",
      "380 nan [ nan] [ nan]\n",
      "400 nan [ nan] [ nan]\n",
      "420 nan [ nan] [ nan]\n",
      "440 nan [ nan] [ nan]\n",
      "460 nan [ nan] [ nan]\n",
      "480 nan [ nan] [ nan]\n",
      "500 nan [ nan] [ nan]\n",
      "520 nan [ nan] [ nan]\n",
      "540 nan [ nan] [ nan]\n",
      "560 nan [ nan] [ nan]\n",
      "580 nan [ nan] [ nan]\n",
      "600 nan [ nan] [ nan]\n",
      "620 nan [ nan] [ nan]\n",
      "640 nan [ nan] [ nan]\n",
      "660 nan [ nan] [ nan]\n",
      "680 nan [ nan] [ nan]\n",
      "700 nan [ nan] [ nan]\n",
      "720 nan [ nan] [ nan]\n",
      "740 nan [ nan] [ nan]\n",
      "760 nan [ nan] [ nan]\n",
      "780 nan [ nan] [ nan]\n",
      "800 nan [ nan] [ nan]\n",
      "820 nan [ nan] [ nan]\n",
      "840 nan [ nan] [ nan]\n",
      "860 nan [ nan] [ nan]\n",
      "880 nan [ nan] [ nan]\n",
      "900 nan [ nan] [ nan]\n",
      "920 nan [ nan] [ nan]\n",
      "940 nan [ nan] [ nan]\n",
      "960 nan [ nan] [ nan]\n",
      "980 nan [ nan] [ nan]\n",
      "1000 nan [ nan] [ nan]\n",
      "1020 nan [ nan] [ nan]\n",
      "1040 nan [ nan] [ nan]\n",
      "1060 nan [ nan] [ nan]\n",
      "1080 nan [ nan] [ nan]\n",
      "1100 nan [ nan] [ nan]\n",
      "1120 nan [ nan] [ nan]\n",
      "1140 nan [ nan] [ nan]\n",
      "1160 nan [ nan] [ nan]\n",
      "1180 nan [ nan] [ nan]\n",
      "1200 nan [ nan] [ nan]\n",
      "1220 nan [ nan] [ nan]\n",
      "1240 nan [ nan] [ nan]\n",
      "1260 nan [ nan] [ nan]\n",
      "1280 nan [ nan] [ nan]\n",
      "1300 nan [ nan] [ nan]\n",
      "1320 nan [ nan] [ nan]\n",
      "1340 nan [ nan] [ nan]\n",
      "1360 nan [ nan] [ nan]\n",
      "1380 nan [ nan] [ nan]\n",
      "1400 nan [ nan] [ nan]\n",
      "1420 nan [ nan] [ nan]\n",
      "1440 nan [ nan] [ nan]\n",
      "1460 nan [ nan] [ nan]\n",
      "1480 nan [ nan] [ nan]\n",
      "1500 nan [ nan] [ nan]\n",
      "1520 nan [ nan] [ nan]\n",
      "1540 nan [ nan] [ nan]\n",
      "1560 nan [ nan] [ nan]\n",
      "1580 nan [ nan] [ nan]\n",
      "1600 nan [ nan] [ nan]\n",
      "1620 nan [ nan] [ nan]\n",
      "1640 nan [ nan] [ nan]\n",
      "1660 nan [ nan] [ nan]\n",
      "1680 nan [ nan] [ nan]\n",
      "1700 nan [ nan] [ nan]\n",
      "1720 nan [ nan] [ nan]\n",
      "1740 nan [ nan] [ nan]\n",
      "1760 nan [ nan] [ nan]\n",
      "1780 nan [ nan] [ nan]\n",
      "1800 nan [ nan] [ nan]\n",
      "1820 nan [ nan] [ nan]\n",
      "1840 nan [ nan] [ nan]\n",
      "1860 nan [ nan] [ nan]\n",
      "1880 nan [ nan] [ nan]\n",
      "1900 nan [ nan] [ nan]\n",
      "1920 nan [ nan] [ nan]\n",
      "1940 nan [ nan] [ nan]\n",
      "1960 nan [ nan] [ nan]\n",
      "1980 nan [ nan] [ nan]\n",
      "2000 nan [ nan] [ nan]\n"
     ]
    }
   ],
   "source": [
    "# Launch the graph in a session\n",
    "sess = tf.Session()\n",
    "# Initializes global variables in the graph.\n",
    "sess.run(tf.global_variables_initializer())\n",
    "\n",
    "# Fit the line\n",
    "for step in range(2001):\n",
    "    sess.run(train)\n",
    "    if step % 20 == 0:\n",
    "        print(step, sess.run(cost), sess.run(W), sess.run(b))\n",
    "        "
   ]
  },
  {
   "cell_type": "code",
   "execution_count": null,
   "metadata": {
    "collapsed": true
   },
   "outputs": [],
   "source": []
  }
 ],
 "metadata": {
  "kernelspec": {
   "display_name": "Python 3",
   "language": "python",
   "name": "python3"
  },
  "language_info": {
   "codemirror_mode": {
    "name": "ipython",
    "version": 3
   },
   "file_extension": ".py",
   "mimetype": "text/x-python",
   "name": "python",
   "nbconvert_exporter": "python",
   "pygments_lexer": "ipython3",
   "version": "3.6.2"
  }
 },
 "nbformat": 4,
 "nbformat_minor": 2
}
