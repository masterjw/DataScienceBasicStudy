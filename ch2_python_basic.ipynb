{
 "cells": [
  {
   "cell_type": "markdown",
   "metadata": {},
   "source": [
    "# 2장 파이썬 속성 강좌 \n",
    "## 2.1 기본기 다지기\n",
    "### 2.1.1 파이썬 설치하기\n",
    "책의 내용은 python2.7 기준으로 작성됨.\n",
    "python3를 사용하여도 무방함."
   ]
  },
  {
   "cell_type": "markdown",
   "metadata": {},
   "source": [
    "### 2.1.2 The Zen of Python\n",
    "> 무엇을 하든 그것을 할 수 있는 하나의, 가급적이면 단 하나의 당연한 방법이 존재해야 한다.\n",
    "\n",
    "여기서 **당연한** 방식으로 쓰여진 코드를 **파이썬스럽다(Pythonic)**고 한다."
   ]
  },
  {
   "cell_type": "code",
   "execution_count": 1,
   "metadata": {},
   "outputs": [
    {
     "name": "stdout",
     "output_type": "stream",
     "text": [
      "The Zen of Python, by Tim Peters\n",
      "\n",
      "Beautiful is better than ugly.\n",
      "Explicit is better than implicit.\n",
      "Simple is better than complex.\n",
      "Complex is better than complicated.\n",
      "Flat is better than nested.\n",
      "Sparse is better than dense.\n",
      "Readability counts.\n",
      "Special cases aren't special enough to break the rules.\n",
      "Although practicality beats purity.\n",
      "Errors should never pass silently.\n",
      "Unless explicitly silenced.\n",
      "In the face of ambiguity, refuse the temptation to guess.\n",
      "There should be one-- and preferably only one --obvious way to do it.\n",
      "Although that way may not be obvious at first unless you're Dutch.\n",
      "Now is better than never.\n",
      "Although never is often better than *right* now.\n",
      "If the implementation is hard to explain, it's a bad idea.\n",
      "If the implementation is easy to explain, it may be a good idea.\n",
      "Namespaces are one honking great idea -- let's do more of those!\n"
     ]
    }
   ],
   "source": [
    "import this"
   ]
  },
  {
   "cell_type": "markdown",
   "metadata": {},
   "source": [
    "### 2.1.3 들여쓰기\n",
    "* 코드의 단락을 구분하는 데 중괄호(curly braces, {}) 대신 들여쓰기를 사용한다.\n",
    "* 공백문자는 소괄호(parentheses, ())와 대괄호(brackets, [])안에서는 무시된다. \n",
    "    * 여러줄에 걸쳐 보기 좋게 expression을 작성할 경우 소괄호/ 대괄호로 expression을 묶거나 backslash 후 개행을 활용한다."
   ]
  },
  {
   "cell_type": "code",
   "execution_count": 2,
   "metadata": {},
   "outputs": [
    {
     "name": "stdout",
     "output_type": "stream",
     "text": [
      "1\n",
      "    [1] 2\n",
      "    [2] 3\n",
      "    [3] 4\n",
      "    [4] 5\n",
      "    [5] 6\n",
      "2\n",
      "    [1] 3\n",
      "    [2] 4\n",
      "    [3] 5\n",
      "    [4] 6\n",
      "    [5] 7\n",
      "3\n",
      "    [1] 4\n",
      "    [2] 5\n",
      "    [3] 6\n",
      "    [4] 7\n",
      "    [5] 8\n",
      "4\n",
      "    [1] 5\n",
      "    [2] 6\n",
      "    [3] 7\n",
      "    [4] 8\n",
      "    [5] 9\n",
      "5\n",
      "    [1] 6\n",
      "    [2] 7\n",
      "    [3] 8\n",
      "    [4] 9\n",
      "    [5] 10\n",
      "done looping\n"
     ]
    }
   ],
   "source": [
    "prefix = \"    \"\n",
    "for i in [1, 2, 3, 4, 5]:\n",
    "    print(i)\n",
    "    for j in [1, 2, 3, 4, 5]:\n",
    "        print(prefix + \"[\" + str(j) + \"] \" + str(i + j))\n",
    "print(\"done looping\")"
   ]
  },
  {
   "cell_type": "code",
   "execution_count": 6,
   "metadata": {},
   "outputs": [
    {
     "name": "stdout",
     "output_type": "stream",
     "text": [
      "1\n",
      "2\n",
      "3\n",
      "4\n",
      "5\n"
     ]
    }
   ],
   "source": [
    "# 코드의 가독성을 높이기 위해\n",
    "long_winded_computation = (1 + 2 + 3 + 4 + 5 + 6 + 7 + 8 + 9 + 10 + 11 + 12 + \n",
    "                           13 + 14 + 15 + 16 + 17 + 18 + 19 + 20)\n",
    "\n",
    "list_of_lists = [[1, 2, 3], \n",
    "                 [4, 5, 6], \n",
    "                 [7, 8, 9]]\n",
    "\n",
    "two_plus_three = 2 + \\\n",
    "                 3\n",
    "\n",
    "# 빈 줄로 인한 오류 - python shell에서만 발생되는 문제. 지금도 그런가? - 잘되네요. -0-;\n",
    "for i in [1, 2, 3, 4, 5]:\n",
    "    \n",
    "    # 빈 줄이 있다는 것을 확인\n",
    "    print(i)\n",
    "    "
   ]
  },
  {
   "cell_type": "markdown",
   "metadata": {},
   "source": [
    "### 2.1.4 모듈\n",
    "\n",
    "* 기본 모듈과 3rd party packages 사용을 위해 ```import```를 사용해야한다.\n",
    "* 이름이 겹치거나 반복 타이핑을 용이하게 하기 위해 별칭(alias)를 사용할 수 있다.\n",
    "* `from 모듈 import 기능[들]` 과 같이 필요한 기능만 불러올 수 있다."
   ]
  },
  {
   "cell_type": "code",
   "execution_count": 8,
   "metadata": {},
   "outputs": [
    {
     "data": {
      "text/plain": [
       "re.compile(r'[0-9]+', re.IGNORECASE|re.UNICODE)"
      ]
     },
     "execution_count": 8,
     "metadata": {},
     "output_type": "execute_result"
    }
   ],
   "source": [
    "# 정규표현식 사용을 위한 import\n",
    "# import re as regex  #alias 사용\n",
    "import re\n",
    "#print(match)\n",
    "my_regex = re.compile(\"[0-9]+\", re.I)\n",
    "my_regex"
   ]
  },
  {
   "cell_type": "code",
   "execution_count": null,
   "metadata": {
    "collapsed": true
   },
   "outputs": [],
   "source": [
    "# 모듈에서 특정 기능만 명시해서 불러올 수 있다\n",
    "from collections import defaultdict, Counter\n",
    "lookup = defaultdict(int)\n",
    "my_counter = Counter()\n",
    "lookup\n",
    "#my_counter\n",
    "#defaultdict"
   ]
  },
  {
   "cell_type": "markdown",
   "metadata": {},
   "source": [
    "* `import X`\n",
    "    * X 모듈을 현재의 namespace에 추가\n",
    "    * `X.foo()` 와 같이 사용\n",
    "    * X라는 이름의 충돌만 없다면 문제없음\n",
    "* `from X import foo`\n",
    "    * X 모듈의 foo를 현재의 namespace에 추가\n",
    "    * `foo()` 와 같이 사용\n",
    "    * foo라는 이름의 충돌만 없다면 문제없음\n",
    "* `from X import *`\n",
    "    * X 모듈에 정의된 모든 것을 현재의 namespace에 추가\n",
    "    * `foo()` 와 같이 사용\n",
    "    * 이름 충돌 발생할 가능성이 매우 높으며, 피해야하는 방법"
   ]
  },
  {
   "cell_type": "code",
   "execution_count": null,
   "metadata": {
    "collapsed": true
   },
   "outputs": [],
   "source": [
    "# import가 기존 변수를 덮어쓸 수 있다. 피해야하는 사용법\n",
    "match = 10\n",
    "from re import *\n",
    "print(match)"
   ]
  },
  {
   "cell_type": "markdown",
   "metadata": {},
   "source": [
    "### 2.1.6 함수\n",
    "```def```를 이용하여 함수를 정의함."
   ]
  },
  {
   "cell_type": "code",
   "execution_count": 9,
   "metadata": {
    "collapsed": true
   },
   "outputs": [],
   "source": [
    "def double(x):\n",
    "    \"\"\"함수에 대한 설명\"\"\"\n",
    "    return x * 2"
   ]
  },
  {
   "cell_type": "code",
   "execution_count": 10,
   "metadata": {
    "collapsed": true
   },
   "outputs": [],
   "source": [
    "double?"
   ]
  },
  {
   "cell_type": "code",
   "execution_count": 11,
   "metadata": {},
   "outputs": [
    {
     "data": {
      "text/plain": [
       "'testtest'"
      ]
     },
     "execution_count": 11,
     "metadata": {},
     "output_type": "execute_result"
    }
   ],
   "source": [
    "double(\"test\") # 타입체킹 여부 확인 실패 -0-;"
   ]
  },
  {
   "cell_type": "code",
   "execution_count": 13,
   "metadata": {},
   "outputs": [
    {
     "ename": "TypeError",
     "evalue": "unsupported operand type(s) for *: 'NoneType' and 'int'",
     "output_type": "error",
     "traceback": [
      "\u001b[0;31m--------------------------------------------------------------------\u001b[0m",
      "\u001b[0;31mTypeError\u001b[0m                          Traceback (most recent call last)",
      "\u001b[0;32m<ipython-input-13-93a47cb0e210>\u001b[0m in \u001b[0;36m<module>\u001b[0;34m()\u001b[0m\n\u001b[0;32m----> 1\u001b[0;31m \u001b[0mdouble\u001b[0m\u001b[0;34m(\u001b[0m\u001b[0;32mNone\u001b[0m\u001b[0;34m)\u001b[0m \u001b[0;31m# TypeError 발생\u001b[0m\u001b[0;34m\u001b[0m\u001b[0m\n\u001b[0m",
      "\u001b[0;32m<ipython-input-9-033b305f9935>\u001b[0m in \u001b[0;36mdouble\u001b[0;34m(x)\u001b[0m\n\u001b[1;32m      1\u001b[0m \u001b[0;32mdef\u001b[0m \u001b[0mdouble\u001b[0m\u001b[0;34m(\u001b[0m\u001b[0mx\u001b[0m\u001b[0;34m)\u001b[0m\u001b[0;34m:\u001b[0m\u001b[0;34m\u001b[0m\u001b[0m\n\u001b[1;32m      2\u001b[0m     \u001b[0;34m\"\"\"함수에 대한 설명\"\"\"\u001b[0m\u001b[0;34m\u001b[0m\u001b[0m\n\u001b[0;32m----> 3\u001b[0;31m     \u001b[0;32mreturn\u001b[0m \u001b[0mx\u001b[0m \u001b[0;34m*\u001b[0m \u001b[0;36m2\u001b[0m\u001b[0;34m\u001b[0m\u001b[0m\n\u001b[0m",
      "\u001b[0;31mTypeError\u001b[0m: unsupported operand type(s) for *: 'NoneType' and 'int'"
     ]
    }
   ],
   "source": [
    "double() # TypeError 발생"
   ]
  },
  {
   "cell_type": "markdown",
   "metadata": {},
   "source": [
    "python의 함수들은 변수로 할당되거나 함수의 인자로 전달할 수 있다는 점에서 일급 함수(first-class)의 특성을 가진다."
   ]
  },
  {
   "cell_type": "code",
   "execution_count": 15,
   "metadata": {},
   "outputs": [
    {
     "data": {
      "text/plain": [
       "4"
      ]
     },
     "execution_count": 15,
     "metadata": {},
     "output_type": "execute_result"
    }
   ],
   "source": [
    "def apply_to_one(f):\n",
    "    \"\"\"인자가 1인 함수 f를 호출\"\"\"\n",
    "    return f(2)\n",
    "\n",
    "my_double = double\n",
    "x = apply_to_one(my_double)\n",
    "x"
   ]
  },
  {
   "cell_type": "code",
   "execution_count": null,
   "metadata": {
    "collapsed": true
   },
   "outputs": [],
   "source": [
    "# 짧은 익명의 람다 함수도 간편하게 만들 수 있다.\n",
    "y = apply_to_one(lambda x: x + 4)\n",
    "y"
   ]
  },
  {
   "cell_type": "markdown",
   "metadata": {
    "collapsed": true
   },
   "source": [
    "변수에 람다 함수를 담을 수도 있다. 그러나...\n",
    "1. `def another_double(x): return 2 * x`\n",
    "2. `another_double = lambda x: 2 * x       # 이 방법은 최대한 피하도록 하자. 왜???`\n",
    "\n",
    "> The first form means that the name of the resulting function object is specifically ‘another_double’ instead of the generic ‘&lt;lambda>’. This is more useful for tracebacks and string representations in general. The use of the assignment statement eliminates the sole benefit a lambda expression can offer over an explicit def statement (i.e. that it can be embedded inside a larger expression)\n",
    "\n"
   ]
  },
  {
   "cell_type": "code",
   "execution_count": 16,
   "metadata": {},
   "outputs": [
    {
     "name": "stdout",
     "output_type": "stream",
     "text": [
      "hello\n",
      "my default message\n"
     ]
    }
   ],
   "source": [
    "# 인자에 기본값 할당\n",
    "def my_print(message=\"my default message\"):\n",
    "    print(message)\n",
    "\n",
    "my_print(\"hello\")\n",
    "my_print()"
   ]
  },
  {
   "cell_type": "code",
   "execution_count": 17,
   "metadata": {},
   "outputs": [
    {
     "data": {
      "text/plain": [
       "-5"
      ]
     },
     "execution_count": 17,
     "metadata": {},
     "output_type": "execute_result"
    }
   ],
   "source": [
    "# 인자의 이름을 명시해 주면 편리함\n",
    "def subtract(a=0, b=0):\n",
    "    return a - b\n",
    "\n",
    "subtract(10, 5)\n",
    "subtract(0, 5)\n",
    "subtract(b=5)"
   ]
  },
  {
   "cell_type": "markdown",
   "metadata": {},
   "source": [
    "### 2.1.7 문자열\n",
    "문자열(string)은 작은 따옴표(') 또는 큰 따옴표(\")로 묶어 나타낸다. "
   ]
  },
  {
   "cell_type": "code",
   "execution_count": 4,
   "metadata": {
    "collapsed": true
   },
   "outputs": [],
   "source": [
    "single_quoted_string = 'data science'\n",
    "double_quoted_string = \"data science\""
   ]
  },
  {
   "cell_type": "code",
   "execution_count": 18,
   "metadata": {},
   "outputs": [
    {
     "data": {
      "text/plain": [
       "1"
      ]
     },
     "execution_count": 18,
     "metadata": {},
     "output_type": "execute_result"
    }
   ],
   "source": [
    "# 일부 특수 문자를 인코딩할 때 역슬래시를 사용\n",
    "tab_string = \"\\t\"\n",
    "len(tab_string)   #1"
   ]
  },
  {
   "cell_type": "code",
   "execution_count": 19,
   "metadata": {},
   "outputs": [
    {
     "data": {
      "text/plain": [
       "2"
      ]
     },
     "execution_count": 19,
     "metadata": {},
     "output_type": "execute_result"
    }
   ],
   "source": [
    "# 만약 역슬래시를 역스래시로 보이는 문자로 사용하고 싶다면 \n",
    "# (특히 윈도우 디렉터리 이름이나 정규표현식에서 사용하고 싶을 때) \n",
    "# 문자열 앞에 r을 붙여 raw string이라고 명시하면 된다.\n",
    "not_tab_string = r\"\\t\"\n",
    "len(not_tab_string)     #2"
   ]
  },
  {
   "cell_type": "code",
   "execution_count": 20,
   "metadata": {},
   "outputs": [
    {
     "name": "stdout",
     "output_type": "stream",
     "text": [
      "This is the first line.\n",
      "    and this is the second line\n",
      "    and this is third line\n"
     ]
    }
   ],
   "source": [
    "# 세 개의 따옴표를 사용하면 하나의 문자열을 여러 줄로 나눠서 나타낼 수 있다.\n",
    "multi_line_string = \"\"\"This is the first line.\n",
    "    and this is the second line\n",
    "    and this is third line\"\"\"\n",
    "print(multi_line_string)"
   ]
  },
  {
   "cell_type": "markdown",
   "metadata": {},
   "source": [
    "### 또 2.1.7 예외 처리\n",
    "코드가 뭔가 잘못되었을 때 파이썬을 예외(exception)를 발생시킨다.   \n",
    "예외를 제대로 처리해 주지 않으면 프로그램이 죽는데, 이를 방지하기 위해 사용할 수 있는 것이 `try`와 `except`이다."
   ]
  },
  {
   "cell_type": "code",
   "execution_count": 24,
   "metadata": {},
   "outputs": [
    {
     "name": "stdout",
     "output_type": "stream",
     "text": [
      "cannot divide by zero\n"
     ]
    }
   ],
   "source": [
    "try:\n",
    "    print(0 / 0)\n",
    "except ZeroDivisionError:\n",
    "    print(\"cannot divide by zero\")"
   ]
  },
  {
   "cell_type": "markdown",
   "metadata": {},
   "source": [
    "많은 프로그래밍 언어에서 예외 처리는 나쁜 것이라고 받아들여지지만(??? 금시초문)  \n",
    "파이썬에서는 코드를 깔끔하게 작성하기 위해서라면 얼마든지 사용된다."
   ]
  },
  {
   "cell_type": "markdown",
   "metadata": {},
   "source": [
    "### 2.1.8 list\n",
    "- 파이썬의 가장 기본적인 데이터 구조\n",
    "- ordered collection (like array in other language)"
   ]
  },
  {
   "cell_type": "code",
   "execution_count": 25,
   "metadata": {},
   "outputs": [
    {
     "name": "stdout",
     "output_type": "stream",
     "text": [
      "3\n",
      "6\n"
     ]
    }
   ],
   "source": [
    "integer_list = [1, 2, 3]\n",
    "heterogeneous_list = [\"string\", 0.1, True]\n",
    "list_of_lists = [ integer_list, heterogeneous_list, [] ]\n",
    "\n",
    "list_length = len(integer_list)\n",
    "print(list_length)\n",
    "list_sum = sum(integer_list)\n",
    "print(list_sum)"
   ]
  },
  {
   "cell_type": "markdown",
   "metadata": {},
   "source": [
    "Python3에서 range는 list와 다르게 동작함.\n",
    "* 아래 예제와 같이 `x[0] = -1`과 같이 assign이 동작하지 않음\n",
    "* 따라서 list로 변환해줘야 함.\n",
    ">The advantage of the range type over a regular list or tuple is that a range object will always take the same (small) amount of memory, no matter the size of the range it represents (as it only stores the start, stop and step values, calculating individual items and subranges as needed)."
   ]
  },
  {
   "cell_type": "code",
   "execution_count": 26,
   "metadata": {},
   "outputs": [
    {
     "name": "stdout",
     "output_type": "stream",
     "text": [
      "zero: 0 , one: 1 , nine: 9 , eight: 8\n",
      "x   : [-1, 1, 2, 3, 4, 5, 6, 7, 8, 9]\n",
      "\n",
      "first_three           : [-1, 1, 2]\n",
      "three_to_end          : [3, 4, 5, 6, 7, 8, 9]\n",
      "one_to_four           : [1, 2, 3, 4]\n",
      "last_three            : [7, 8, 9]\n",
      "without_first_and_last: [1, 2, 3, 4, 5, 6, 7, 8]\n",
      "copy_of_x             : [-1, 1, 2, 3, 4, 5, 6, 7, 8, 9]\n"
     ]
    }
   ],
   "source": [
    "x = list(range(10)) # [0, 1, ..., 9] 형태의 list\n",
    "zero = x[0]   \n",
    "one = x[1]    \n",
    "nine = x[-1]  \n",
    "eight = x[-2]  \n",
    "x[0] = -1\n",
    "print(\"zero:\", zero, \", one:\", one, \", nine:\", nine, \", eight:\", eight)\n",
    "print(\"x   :\", x)\n",
    "print()\n",
    "\n",
    "first_three = x[:3]\n",
    "three_to_end = x[3:]\n",
    "one_to_four = x[1:5]\n",
    "last_three = x[-3:]\n",
    "without_first_and_last=x[1:-1]\n",
    "copy_of_x = x[:]\n",
    "\n",
    "print(\"first_three           :\", first_three)\n",
    "print(\"three_to_end          :\", three_to_end)\n",
    "print(\"one_to_four           :\", one_to_four)\n",
    "print(\"last_three            :\", last_three)\n",
    "print(\"without_first_and_last:\", without_first_and_last)\n",
    "print(\"copy_of_x             :\", copy_of_x)"
   ]
  },
  {
   "cell_type": "code",
   "execution_count": null,
   "metadata": {
    "collapsed": true
   },
   "outputs": [],
   "source": [
    "# `in` 연산자 :  list안에 항목의 존재 여부를 확인\n",
    "# O(N) - 모든 항목을 순회\n",
    "print(1 in [1, 2, 3])\n",
    "print(0 in [1, 2, 3])"
   ]
  },
  {
   "cell_type": "code",
   "execution_count": 28,
   "metadata": {},
   "outputs": [
    {
     "name": "stdout",
     "output_type": "stream",
     "text": [
      "[1, 2, 3, 4, 5, 6]\n",
      "[1, 2, 3, 4, 5, 6, 4, 5, 6]\n"
     ]
    }
   ],
   "source": [
    "x = [1, 2, 3]\n",
    "x.extend([4, 5, 6])\n",
    "print(x)\n",
    "y = x + [4, 5, 6] # x 수정없이 \n",
    "print(y)"
   ]
  },
  {
   "cell_type": "code",
   "execution_count": 29,
   "metadata": {},
   "outputs": [
    {
     "name": "stdout",
     "output_type": "stream",
     "text": [
      "0\n",
      "4\n"
     ]
    }
   ],
   "source": [
    "x = [1, 2, 3]\n",
    "x.append(0)\n",
    "y = x[-1]\n",
    "print(y)\n",
    "z= len(x)\n",
    "print(z)"
   ]
  },
  {
   "cell_type": "code",
   "execution_count": 30,
   "metadata": {},
   "outputs": [
    {
     "name": "stdout",
     "output_type": "stream",
     "text": [
      "ValueError occurred\n"
     ]
    }
   ],
   "source": [
    "# 리스트에 항목이 몇 개있는지 알고 있다면 unpack 사용 가능\n",
    "x, y = [1, 2]  \n",
    "# 하지만 양쪽 항목의 개수가 다르다면 ValueError 발생\n",
    "_, y = [1, 2]\n",
    "# 위와 같이 사용하지 않는 변수 생략가능\n",
    "try:\n",
    "    _, _, z = [1, 2]\n",
    "except ValueError:\n",
    "    print(\"ValueError occurred\")\n"
   ]
  },
  {
   "cell_type": "markdown",
   "metadata": {},
   "source": [
    "### 2.1.9 tuple\n",
    "* **tuple은 변경할 수 없는 list**임.\n",
    "* tuple은 대괄호 대신 괄호를 사용해서 (혹은 아무런 기호 없이) 정의한다."
   ]
  },
  {
   "cell_type": "code",
   "execution_count": 31,
   "metadata": {},
   "outputs": [
    {
     "name": "stdout",
     "output_type": "stream",
     "text": [
      "my_list: [1, 3]\n",
      "cannot modify a tuple\n"
     ]
    }
   ],
   "source": [
    "my_list = [1, 2]\n",
    "my_tuple = (1, 2)\n",
    "other_tuple = 3, 4\n",
    "my_list[1] = 3\n",
    "print(\"my_list:\", my_list)\n",
    "\n",
    "try:\n",
    "    my_tuple[1] = 3\n",
    "except TypeError:\n",
    "    print(\"cannot modify a tuple\")"
   ]
  },
  {
   "cell_type": "code",
   "execution_count": 32,
   "metadata": {},
   "outputs": [
    {
     "name": "stdout",
     "output_type": "stream",
     "text": [
      "(5, 6) 15 50\n"
     ]
    }
   ],
   "source": [
    "# 함수에서 여러 값을 반환할 때 tuple을 사용\n",
    "def sum_and_product(x, y):\n",
    "    return (x + y), (x * y)\n",
    "sp = sum_and_product(2, 3)\n",
    "s, p = sum_and_product(5, 10)\n",
    "print(sp, s, p)"
   ]
  },
  {
   "cell_type": "code",
   "execution_count": null,
   "metadata": {
    "collapsed": true
   },
   "outputs": [],
   "source": [
    "# tuple과 list는 다중 할당(multiple assignment)을 지원\n",
    "x, y = 1, 2\n",
    "x, y = y, x     # 가장 파이썬스럽게 swap\n",
    "print(\"x:\", x, \", y:\", y)"
   ]
  },
  {
   "cell_type": "markdown",
   "metadata": {
    "collapsed": true
   },
   "source": [
    "### 2.1.10 dict\n",
    "* dictionary는 unique한 key값에 연결되 value를 담는 container\n",
    "* dict의 key는 수정할 수 없음\n",
    "* list를 key로 사용할 수 없음\n",
    "    * 만약 다양한 값으로 구성된 key가 필요하다면 tuple이나 문자열을 key로 사용\n"
   ]
  },
  {
   "cell_type": "code",
   "execution_count": 33,
   "metadata": {},
   "outputs": [
    {
     "name": "stdout",
     "output_type": "stream",
     "text": [
      "80\n",
      "no grade for Kate!\n"
     ]
    }
   ],
   "source": [
    "empty_dict = {}        # 가장 파이썬스럽게 dict 만드는 방법\n",
    "empty_dict = dict()    # 덜 파이썬스럽게 dict를 만드는 방법\n",
    "grades = { \"Joel\" : 80, \"Tim\" : 95 }\n",
    "joels_grade = grades[\"Joel\"]\n",
    "print(joels_grade)\n",
    "\n",
    "# dict에 존재하지 않는 key를 입력하면 KeyError발생\n",
    "try:\n",
    "    kates_grade = grades[\"Kate\"]\n",
    "except KeyError:\n",
    "    print(\"no grade for Kate!\")\n"
   ]
  },
  {
   "cell_type": "code",
   "execution_count": 34,
   "metadata": {},
   "outputs": [
    {
     "name": "stdout",
     "output_type": "stream",
     "text": [
      "True False\n",
      "80 0 None\n"
     ]
    }
   ],
   "source": [
    "# 연산자 `in`을 사용하면 key의 존재 여부를 확인할 수 있음\n",
    "joel_has_grade = \"Joel\" in grades   \n",
    "kate_has_grade = \"Kate\" in grades\n",
    "print(joel_has_grade, kate_has_grade)\n",
    "\n",
    "# `get` 메서드를 사용하면 입력한 key가 dict에 없어도 에러를 반환하지 않고 기본값을 반환해 줌\n",
    "joels_grade = grades.get(\"Joel\", 0)\n",
    "kates_grade = grades.get(\"Kate\", 0)\n",
    "no_ones_grade = grades.get(\"No One\")  # 없을 때의 default 값은 None\n",
    "print(joels_grade, kates_grade, no_ones_grade)"
   ]
  },
  {
   "cell_type": "markdown",
   "metadata": {},
   "source": [
    "#### defaultdict\n",
    "* 존재하지 않은 key의 value를 조회 시, 자동으로 기본 value을 해당 key값에 추가해줌\n",
    "* 자동으로 추가되는 기본값은 defaultdict 생성 시 인자로 넘어가는 default_factory"
   ]
  },
  {
   "cell_type": "code",
   "execution_count": null,
   "metadata": {
    "collapsed": true
   },
   "outputs": [],
   "source": [
    "# 1. 단어 수를 세는 방법 : 키값 존재 여부 확인\n",
    "document = \"\"\n",
    "word_counts = {}\n",
    "for word in document:\n",
    "    if word in word_counts:\n",
    "        word_counts[word] += 1\n",
    "    else:\n",
    "        word_counts[word] = 1\n",
    "\n",
    "# 2. 예외 활용\n",
    "word_counts = {}\n",
    "for word in document:\n",
    "    try:\n",
    "        word_counts[word] += 1\n",
    "    except KeyError:\n",
    "        word_counts[word] = 1\n",
    "\n",
    "# 3. get 사용\n",
    "word_counts = {}\n",
    "for word in document:\n",
    "    previous_count = word_count.get(word, 0)\n",
    "    word_counts[word] = previous_count + 1"
   ]
  },
  {
   "cell_type": "code",
   "execution_count": null,
   "metadata": {
    "collapsed": true
   },
   "outputs": [],
   "source": [
    "# defaultdict 사용\n",
    "from collections import defaultdict\n",
    "\n",
    "word_counts = defaultdict(int)   # int()는 0을 생성\n",
    "for word in document:\n",
    "    word_counts[word] += 1\n",
    "    \n",
    "# list, dict 또는 직접 만든 함수를 인자(default_factory)로 넣을 수 있다.\n",
    "dd_list = defaultdict(list)\n",
    "dd_list[2].append(1)\n",
    "print(dd_list)\n",
    "\n",
    "dd_dict = defaultdict(dict) \n",
    "dd_dict[\"Joel\"][\"City\"] = \"Seattle\"\n",
    "print(dd_dict)\n",
    "\n",
    "dd_pair = defaultdict(lambda: [0, 0])\n",
    "dd_pair[2][1] = 1\n",
    "print(dd_pair)"
   ]
  },
  {
   "cell_type": "markdown",
   "metadata": {},
   "source": [
    "#### Counter\n",
    "* Counter는 연속된 값을 `defaultdict(int)`와 유사한 객체로 변환해 주며, key와 value의 빈도를 연결시켜 준다. \n",
    "* 히스토그램 그릴 때 유용함"
   ]
  },
  {
   "cell_type": "code",
   "execution_count": null,
   "metadata": {
    "collapsed": true
   },
   "outputs": [],
   "source": [
    "from collections import Counter\n",
    "c = Counter([0, 1, 2, 0])\n",
    "print(c)\n",
    "\n"
   ]
  },
  {
   "cell_type": "code",
   "execution_count": null,
   "metadata": {
    "collapsed": true
   },
   "outputs": [],
   "source": [
    "document = \"\"\n",
    "\n",
    "# 단어 수 셀 때도 유용함.\n",
    "word_counts = Counter(document)\n",
    "\n",
    "# Counter 객체에는 유용한 `most_common` 함수가 있음\n",
    "#  가장 자주 나오는 단어  10개와 이 단어들의 빈도수를 출력\n",
    "for word, count in word_counts.most_common(10):\n",
    "    print(word, count)"
   ]
  },
  {
   "cell_type": "markdown",
   "metadata": {},
   "source": [
    "### 2.1.11 set\n",
    "* 집합을 나타내는 컨테이너\n",
    "* 유니크한 항목을 가진다.\n",
    "    * e.g. 중복된 원소를 제거\n",
    "* `in` 오퍼레이션이 매우 빠르다. 통상적으로 O(1)\n",
    "    * e.g. 수 많은 항목 중에서 특정 항목의 존재 여부 확인\n",
    "\n",
    "일반적으로 `dict`나 `list`를 더 자주 사용"
   ]
  },
  {
   "cell_type": "code",
   "execution_count": null,
   "metadata": {
    "collapsed": true
   },
   "outputs": [],
   "source": [
    "s = set()\n",
    "s.add(1)\n",
    "s.add(2)\n",
    "s.add(2)\n",
    "print(s)\n",
    "x = len(s)\n",
    "y = 2 in s\n",
    "z = 3 in s\n",
    "print(x, y, z)"
   ]
  },
  {
   "cell_type": "code",
   "execution_count": null,
   "metadata": {
    "collapsed": true
   },
   "outputs": [],
   "source": [
    "import time\n",
    "sample = \"\"\"\n",
    "It is a long established fact that a reader will be distracted by the readable content of a page when looking at its layout. The point of using Lorem Ipsum is that it has a more-or-less normal distribution of letters, as opposed to using 'Content here, content here', making it look like readable English. Many desktop publishing packages and web page editors now use Lorem Ipsum as their default model text, and a search for 'lorem ipsum' will uncover many web sites still in their infancy. Various versions have evolved over the years, sometimes by accident, sometimes on purpose (injected humour and the like).\n",
    "\"\"\"\n",
    "text = \"\"\n",
    "for i in range(10000000):\n",
    "    text += sample\n",
    "\n",
    "hundreds_of_other_words = text.split(\" \")\n",
    "stopwords_list = [\"a\", \"an\", \"at\"] + hundreds_of_other_words + [\"yet\", \"you\"]\n",
    "start = time.clock()\n",
    "print(\"zip\" in stopwords_list)\n",
    "end = time.clock()\n",
    "print(\"list:\", end - start)\n",
    "\n",
    "stopwords_set = set(stopwords_list)\n",
    "start = time.clock()\n",
    "print(\"zip\" in stopwords_set)\n",
    "end = time.clock()\n",
    "print(\"set:\", end - start)"
   ]
  },
  {
   "cell_type": "markdown",
   "metadata": {},
   "source": [
    "### 2.1.12 흐름제어\n",
    "* `if` \n",
    "    * `if-[elif]-[else]`\n",
    "    * `true_value` if condition else `false_value`\n",
    "* `while`\n",
    "* `for-in`\n",
    "* `continue`, `break`"
   ]
  },
  {
   "cell_type": "code",
   "execution_count": null,
   "metadata": {
    "collapsed": true
   },
   "outputs": [],
   "source": [
    "if 1 > 2:\n",
    "    message = \"if only 1 were greater than two...\"\n",
    "elif 1 > 3:\n",
    "    message = \"elif stands for 'else if'\"\n",
    "else:\n",
    "    message = \"when all else fails use else (if you want to)\"\n",
    "\n",
    "print(message)"
   ]
  },
  {
   "cell_type": "code",
   "execution_count": null,
   "metadata": {
    "collapsed": true
   },
   "outputs": [],
   "source": [
    "# 3항 연산자처럼 사용할 수 있다.  `true_value` if condition else `false_value`\n",
    "x = 0\n",
    "parity = \"even\" if x % 2 == 0 else \"odd\"\n",
    "print(parity)"
   ]
  },
  {
   "cell_type": "code",
   "execution_count": null,
   "metadata": {
    "collapsed": true
   },
   "outputs": [],
   "source": [
    "# while\n",
    "x = 0\n",
    "while x < 10:\n",
    "    print(x, \"is less than 10\")\n",
    "    x += 1"
   ]
  },
  {
   "cell_type": "code",
   "execution_count": null,
   "metadata": {
    "collapsed": true
   },
   "outputs": [],
   "source": [
    "# for-in\n",
    "for x in range(10):\n",
    "    print(x, \"is less than 10\")"
   ]
  },
  {
   "cell_type": "code",
   "execution_count": null,
   "metadata": {
    "collapsed": true
   },
   "outputs": [],
   "source": [
    "# continue, break\n",
    "for x in range(10):\n",
    "    if x == 3:\n",
    "        continue\n",
    "    if x == 5:\n",
    "        break\n",
    "    print(x)"
   ]
  },
  {
   "cell_type": "markdown",
   "metadata": {},
   "source": [
    "### 2.1.13 True와 False (Boolean)\n",
    "* 항상 대문자로 시작 : `True`, `False`\n",
    "* 존재하지 않는 값을 `None`으로 표기 (다른 언어의 null)\n",
    "* 거짓을 의미하는 값들 (나머지 값은 참)\n",
    "    * `False`\n",
    "    * `None`\n",
    "    * `[]` (빈 list)\n",
    "    * `{}` (빈 dict)\n",
    "    * \"\"\n",
    "    * set()\n",
    "    * 0\n",
    "    * 0.0\n",
    "* `and` 연산자 : 첫번째 값이 참이면 두 번째 값을 반환, 거짓이면 첫번째 값을 반환\n",
    "* `or` 연산자 : 첫번째 값이 참이면 첫 번째 값을 반환, 거짓이면 두번째 값을 반환\n",
    "* list관련 함수\n",
    "    * all(list) : list의 모든 항목이 참이면 True\n",
    "    * any(list) : list에 참인 항목이 하나라도 있으면 True    "
   ]
  },
  {
   "cell_type": "code",
   "execution_count": null,
   "metadata": {
    "collapsed": true
   },
   "outputs": [],
   "source": [
    "one_is_less_than_two = 1 < 2\n",
    "print(one_is_less_than_two)\n",
    "true_equals_false = True == False\n",
    "print(true_equals_false)"
   ]
  },
  {
   "cell_type": "code",
   "execution_count": null,
   "metadata": {
    "collapsed": true
   },
   "outputs": [],
   "source": [
    "x = None\n",
    "print(x == None) # 파이썬스럽지 않음\n",
    "print(x is None) # 파이썬스러움"
   ]
  },
  {
   "cell_type": "code",
   "execution_count": null,
   "metadata": {
    "collapsed": true
   },
   "outputs": [],
   "source": [
    "s = \"some texts\"\n",
    "if s:\n",
    "    first_char = s[0]\n",
    "else:\n",
    "    first_char = \"\"\n",
    "\n",
    "# 위 코드는 다음과 같이 더욱 간단하게 표현할 수 있음\n",
    "first_char = s and s[0]\n",
    "\n",
    "# 만약 x가 숫자거나 None이라면 safe_x는 항상 숫자\n",
    "safe_x = x or 0"
   ]
  },
  {
   "cell_type": "code",
   "execution_count": null,
   "metadata": {
    "collapsed": true
   },
   "outputs": [],
   "source": [
    "all([True, 1, { 3 }])\n",
    "all([True, 1, {}])\n",
    "any([True, 1, {}])\n",
    "all([])\n",
    "any([])"
   ]
  },
  {
   "cell_type": "markdown",
   "metadata": {},
   "source": [
    "## 2.2 기본기에서 한 걸음 나아가기\n",
    "### 2.2.1 정렬\n",
    "* list의 sort 메서드: 오름차순 정렬\n",
    "    * 기존 list의 변경없이 정렬된 목록을 반환받으려면 `sorted` 메서드 사용\n",
    "* 파라메터 `key`\n",
    "    * 정렬하고자하는 값을 리턴하는 함수\n",
    "* 파라메터 `reverse`\n",
    "    * 기본은 오름차순, `reverse=True`하면 내림차순 정렬"
   ]
  },
  {
   "cell_type": "code",
   "execution_count": null,
   "metadata": {
    "collapsed": true
   },
   "outputs": [],
   "source": [
    "x = [4, 1, 2, 3]\n",
    "y = sorted(x)\n",
    "print(x, y)\n",
    "x.sort()\n",
    "print(x, y)\n"
   ]
  },
  {
   "cell_type": "code",
   "execution_count": 1,
   "metadata": {},
   "outputs": [
    {
     "name": "stdout",
     "output_type": "stream",
     "text": [
      "[-4, 3, -2, 1]\n"
     ]
    }
   ],
   "source": [
    "# 절대값의 내림차순으로 정렬\n",
    "x = sorted([-4, 1, -2, 3], key=abs, reverse=True)\n",
    "print(x)"
   ]
  },
  {
   "cell_type": "markdown",
   "metadata": {},
   "source": [
    ">python3에서는 lambda에서 소괄호()를 사용하여 arguments를 unpack하지 못한다.\n",
    " 이유는 다음을 참고 [pep3113](https://www.python.org/dev/peps/pep-3113/)"
   ]
  },
  {
   "cell_type": "code",
   "execution_count": null,
   "metadata": {
    "collapsed": true
   },
   "outputs": [],
   "source": [
    "from collections import Counter\n",
    "document = \"\"\"\n",
    "It is a long established fact that a reader will be distracted by the readable content of a page when looking at its layout. The point of using Lorem Ipsum is that it has a more-or-less normal distribution of letters, as opposed to using 'Content here, content here', making it look like readable English. Many desktop publishing packages and web page editors now use Lorem Ipsum as their default model text, and a search for 'lorem ipsum' will uncover many web sites still in their infancy. Various versions have evolved over the years, sometimes by accident, sometimes on purpose (injected humour and the like).\n",
    "\"\"\"\n",
    "word_counts = Counter(document)\n",
    "print(word_counts.items())\n",
    "\n",
    "# 빈도의 내림차순으로 단어와 빈도를 정렬\n",
    "wc = sorted(word_counts.items(),\n",
    "            key = (lambda pair: pair[1]),\n",
    "            reverse=True)\n",
    "print(\"sorted:\", wc)"
   ]
  },
  {
   "cell_type": "markdown",
   "metadata": {},
   "source": [
    "### 2.2.2 List Comprehension\n",
    "* 기존의 List에서 특정 항목을 선택하거나 변환시깈 결과를 새로운 List에 저장해야하는 경우 list comprehension 사용하는 것이 파이썬스러움\n",
    "* 이하 [python 3 patterns idioms](http://python-3-patterns-idioms-test.readthedocs.io/en/latest/Comprehensions.html)에서 발췌\n",
    "* A list comprehension consists of the following parts:\n",
    "    * An Input Sequence.\n",
    "    * A Variable representing members of the input sequence.\n",
    "    * An Optional Predicate expression.\n",
    "    * An Output Expression producing elements of the output list from members of the Input Sequence that satisfy the predicate.\n",
    "    * Say we need to obtain a list of all the integers in a sequence and then square them:\n",
    "```python\n",
    "a_list = [1, ‘4’, 9, ‘a’, 0, 4]\n",
    "squared_ints = [ e**2 for e in a_list if type(e) == types.IntType ]\n",
    "print squared_ints\n",
    "# [ 1, 81, 0, 16 ]\n",
    "```\n",
    "![caption](listComprehensions.gif)\n",
    "\n",
    "    * The iterator part iterates through each member e of the input sequence a_list.\n",
    "    * The predicate checks if the member is an integer.\n",
    "    * If the member is an integer then it is passed to the output expression, squared, to become a member of the output list."
   ]
  },
  {
   "cell_type": "code",
   "execution_count": null,
   "metadata": {
    "collapsed": true
   },
   "outputs": [],
   "source": [
    "even_numbers = [x for x in range(5) if x % 2 == 0]\n",
    "squares = [x * x for x in range(5)]\n",
    "even_squares = [x * x for x in even_numbers]\n",
    "print(\"even_numbers:\", even_numbers)\n",
    "print(\"squares\", squares)\n",
    "print(\"even_squares:\", even_squares)"
   ]
  },
  {
   "cell_type": "code",
   "execution_count": null,
   "metadata": {
    "collapsed": true
   },
   "outputs": [],
   "source": [
    "# dict나 set로 변환도 가능\n",
    "square_dict = { x : x * x for x in range(5)}\n",
    "square_set = { x * x for x in [1, -1] }\n",
    "print(\"square_dict:\", square_dict)\n",
    "print(\"square_set:\", square_set)"
   ]
  },
  {
   "cell_type": "code",
   "execution_count": null,
   "metadata": {
    "collapsed": true
   },
   "outputs": [],
   "source": [
    "# 리스트에서 불필요한 값은 밑줄로 표기\n",
    "zeros = [0 for _ in even_numbers]\n",
    "print(zeros)"
   ]
  },
  {
   "cell_type": "code",
   "execution_count": null,
   "metadata": {
    "collapsed": true
   },
   "outputs": [],
   "source": [
    "# 중복 for문을 사용할 수 있음, 뒤에 나오는 for는 앞에 나온 결과에 대해 반복\n",
    "pairs = [(x, y) \n",
    "        for x in range(10)\n",
    "        for y in range(10)]\n",
    "print(\"pairs:\", pairs)\n",
    "print()\n",
    "\n",
    "increasing_pairs= [(x, y) \n",
    "                  for x in range(10)\n",
    "                  for y in range(x + 1, 10)]\n",
    "print(\"increasing_pairs:\", increasing_pairs) # x < y인 경우"
   ]
  },
  {
   "cell_type": "markdown",
   "metadata": {},
   "source": [
    "### 2.2.3 Generator와 iterator\n",
    "* 아주 긴 list를 다뤄야할 때 사용\n",
    "* Generator는 (주로 for문을 통해서) 반복할 수 있으며, generator의 각 항목은 필요한 순간에 그때 그때 생성됨\n",
    "* python3에서는 range가 generator로 구현됨\n",
    "* Generator 만드는 방법\n",
    "    * 함수의 반환값을 `yield`를 사용하는 방법\n",
    "    * 소괄호() 안에 for문을 추가하는 밥법으로도 generator 생성 가능\n",
    "        * list comprehension과 비슷한 문법\n",
    "* `dict`의 `items()`는 모든 key와 value를 반환함\n",
    "    * 같은 기능의 generator 버전인 `iteritems()`를 더 자주 사용할 것임"
   ]
  },
  {
   "cell_type": "code",
   "execution_count": null,
   "metadata": {
    "collapsed": true
   },
   "outputs": [],
   "source": [
    "# 함수와 yield 사용\n",
    "def lazy_range(n):\n",
    "    \"\"\"range와 똑같은 기능을 하는 generator\"\"\"\n",
    "    i = 0\n",
    "    while i < n:\n",
    "        yield i\n",
    "        i += 1\n",
    "\n",
    "for i in lazy_range(10):\n",
    "    print(i)       # do_something_with(i)\n",
    "    #if i == 5: break\n"
   ]
  },
  {
   "cell_type": "code",
   "execution_count": null,
   "metadata": {
    "collapsed": true
   },
   "outputs": [],
   "source": [
    "# 괄호안의 for문 추가하여 generator 생성\n",
    "lazy_evens_below_20 = (i for i in range(20) if i % 2 == 0)\n",
    "print(\"lazy_even_below_20:\", lazy_evens_below_20)\n",
    "\n",
    "for i in lazy_evens_below_20:\n",
    "    print(i)\n",
    "\n"
   ]
  },
  {
   "cell_type": "markdown",
   "metadata": {},
   "source": [
    "### 2.2.4 난수 생성\n",
    "* random 모듈 :  `import random`\n",
    "* 주요 함수\n",
    "    * `random()` : 0과 1 사이의 난수를 생성\n",
    "    * `seed(int)` : 같은 시드 값을 적용하면 값은 random() 값을 얻을 수 있음 \n",
    "    * `randomrange(int, [int])` \n",
    "        * 인자가 하나면 0에서 해당 숫자 사이의 난수 생성\n",
    "        * 두 개면 그 사이값 [s, e) 범위의 난수 생성\n",
    "    * `shuffle(list)` : list를 셔플\n",
    "    * `choice(list)` : 임의의 함목 하나 선택\n",
    "    * `sample(list, int)` : list에서 중복이 허용되지 않는 임의의 표본 list 생성\n",
    " "
   ]
  },
  {
   "cell_type": "code",
   "execution_count": 2,
   "metadata": {},
   "outputs": [
    {
     "name": "stdout",
     "output_type": "stream",
     "text": [
      "[0.934209417575924, 0.3535656068515457, 0.1690685445403699, 0.9669142105202255]\n"
     ]
    }
   ],
   "source": [
    "import random\n",
    "\n",
    "four_uniform_randoms = [random.random() for _ in range(4)]\n",
    "print(four_uniform_randoms)"
   ]
  },
  {
   "cell_type": "code",
   "execution_count": 4,
   "metadata": {},
   "outputs": [
    {
     "name": "stdout",
     "output_type": "stream",
     "text": [
      "0.5714025946899135\n",
      "0.5714025946899135\n"
     ]
    }
   ],
   "source": [
    "# seed가 같을 때 난수는?\n",
    "random.seed(10)\n",
    "print(random.random())\n",
    "random.seed(10)\n",
    "print(random.random())"
   ]
  },
  {
   "cell_type": "code",
   "execution_count": 6,
   "metadata": {},
   "outputs": [
    {
     "name": "stdout",
     "output_type": "stream",
     "text": [
      "[0, 8, 7, 5, 1]\n",
      "[3, 5, 4, 3, 4]\n"
     ]
    }
   ],
   "source": [
    "# 구간 안에서의 난수 생성\n",
    "random_list1 = [random.randrange(10) for _ in range(5)]    # [0, 1, 2, ... 9] 사이\n",
    "random_list2 = [random.randrange(3, 6) for _ in range(5)]  # [3, 4, 5] 사이\n",
    "print(random_list1)\n",
    "print(random_list2)"
   ]
  },
  {
   "cell_type": "code",
   "execution_count": 10,
   "metadata": {},
   "outputs": [
    {
     "name": "stdout",
     "output_type": "stream",
     "text": [
      "[1, 4, 8, 2, 0, 6, 9, 7, 5, 3]\n",
      "Alice\n",
      "[26, 15, 2, 57, 31, 19]\n"
     ]
    }
   ],
   "source": [
    "# list 항목 섞을 때 suffle()\n",
    "up_to_ten = list(range(10))\n",
    "random.shuffle(up_to_ten)\n",
    "print(up_to_ten)\n",
    "\n",
    "# list에서 임의의 항목 선택 choice()\n",
    "my_best_friend = random.choice([\"Alice\", \"Bob\", \"Charlie\"])\n",
    "print(my_best_friend)\n",
    "\n",
    "# list에서 중복이 허용되지 않는 임의의 표본 list를 만들고 싶을 때 sample()\n",
    "lottery_numbers = range(60)\n",
    "winning_numbers = random.sample(lottery_numbers, 6)\n",
    "print(winning_numbers)"
   ]
  },
  {
   "cell_type": "code",
   "execution_count": null,
   "metadata": {
    "collapsed": true
   },
   "outputs": [],
   "source": [
    "# 중복이 허용되는 임의의 표본 list를 만들고 싶다면 random.choice() 여러번 사용\n",
    "four_with_replacement = [random.choice(range(10))\n",
    "                        for _ in range(4)]"
   ]
  },
  {
   "cell_type": "markdown",
   "metadata": {},
   "source": [
    "### 2.2.5 정규표현식"
   ]
  },
  {
   "cell_type": "code",
   "execution_count": 30,
   "metadata": {},
   "outputs": [
    {
     "name": "stdout",
     "output_type": "stream",
     "text": [
      "True\n"
     ]
    }
   ],
   "source": [
    "import re\n",
    "\n",
    "is_valid = all([\n",
    "    not re.match(\"a\", \"cat\"),\n",
    "    re.search(\"a\", \"cat\"),\n",
    "    not re.search(\"c\", \"dog\"),\n",
    "    3 == len(re.split(\"[ab]\", \"carbs\")),\n",
    "    \"R-D-\" == re.sub(\"[0-9]\", \"-\", \"R2D2\")\n",
    "])\n",
    "\n",
    "print(is_valid)"
   ]
  },
  {
   "cell_type": "markdown",
   "metadata": {},
   "source": [
    "### 2.2.6 객체 지향 프로그래밍 \n",
    "* `class`를 사용하면 데이터와 관련 함수를 하나로 묶어 줄 수 있음.\n",
    "* 클래스의 멤버 함수(메서드)는 클래스의 이름뒤에 `.`을 찍어 사용할 수 있음.\n",
    "* 클래스의 이름은 관습에 따라 파스칼케이스로 표기\n",
    "    > Pascal case is a subset of Camel Case where the first letter is capitalized.\n",
    "* 메서드의 첫 번째 인자는 `self`임 \n",
    "* 생성자 함수 : `__init__(self, ...)`\n",
    "* description 함수 : `__repr__(self)`"
   ]
  },
  {
   "cell_type": "code",
   "execution_count": 12,
   "metadata": {},
   "outputs": [
    {
     "name": "stdout",
     "output_type": "stream",
     "text": [
      "True\n",
      "False\n"
     ]
    }
   ],
   "source": [
    "class Set:\n",
    "    def __init__(self, values=None):\n",
    "        \"\"\"다음과 같이 사용할 수 있다.\n",
    "        s1 = Set()\n",
    "        s2 = Set([1,2,2,3])\n",
    "        \"\"\"\n",
    "        \n",
    "        self.dict = {}   # 모든 Set의 인스턴스는 자체적으로 dict를 유지\n",
    "        \n",
    "        if values is not None:\n",
    "            for value in values:\n",
    "                self.add(value)\n",
    "                \n",
    "    def __repr__(self):\n",
    "        \"\"\"파이썬 프롬프트에서 이 함수를 입력하거나 str()으로 보내 주면 \n",
    "        Set 객체를 문자열로 표현해 줌\"\"\"\n",
    "        return \"Set: \" + set(self.dict.keys())\n",
    "    \n",
    "    def add(self, value):\n",
    "        self.dict[value] = True\n",
    "    \n",
    "    def contains(self, value):\n",
    "        return value in self.dict\n",
    "    \n",
    "    def remove(self, value):\n",
    "        del self.dict[value]\n",
    "        \n",
    "# 다음과 같이 사용할 수 있다.\n",
    "s = Set([1, 2, 3])\n",
    "s.add(4)\n",
    "print(s.contains(4))\n",
    "s.remove(3)\n",
    "print(s.contains(3))\n",
    "    "
   ]
  },
  {
   "cell_type": "markdown",
   "metadata": {},
   "source": [
    "### 2.2.7 함수형 도구\n",
    "* partial function application (currying)\n",
    "    * 이미 존재하는 함수의 부분을 사용하여 새로운 함수를 만들 때\n",
    "    * (practically) 2개 이상의 parameter를 갖는 함수의 일부 parameter에 기본값을 적용한 새로운 함수를 만드는 것\n",
    "    * `functools.partial`를 사용함."
   ]
  },
  {
   "cell_type": "code",
   "execution_count": 14,
   "metadata": {},
   "outputs": [
    {
     "name": "stdout",
     "output_type": "stream",
     "text": [
      "8\n",
      "9\n"
     ]
    }
   ],
   "source": [
    "def exp(base, power):\n",
    "    return base ** power\n",
    "\n",
    "# base가 2인 함수 별도 구현\n",
    "def two_to_the(power):\n",
    "    return exp(2, power)\n",
    "\n",
    "# functools.partial 사용\n",
    "from functools import partial\n",
    "two_to_the = partial(exp, 2)\n",
    "print(two_to_the(3))\n",
    "\n",
    "# 인자의 이름을 명시해 주면 뒤에 나오는 인자도 partial적용가능\n",
    "square_of = partial(exp, power=2)\n",
    "print(square_of(3))"
   ]
  },
  {
   "cell_type": "markdown",
   "metadata": {},
   "source": [
    "* `list comprehension`의 대안으로 `map, reduce, filter`를 사용할 수 있다.\n",
    "    * `map(tranform function, list)` : list의 각 요소에 transform을 적용하여 새로운 list 생성\n",
    "    * `filter(condition function, list)` : list의 각 요소에 condition을 체크하여 참인 경우만 모아 새 list 생성\n",
    "    * `reduce(reducer function, list)` : list의 각 요소를 순차적으로 합쳐 하나의 값으로 표현"
   ]
  },
  {
   "cell_type": "code",
   "execution_count": 16,
   "metadata": {},
   "outputs": [
    {
     "name": "stdout",
     "output_type": "stream",
     "text": [
      "[2, 4, 6, 8]\n",
      "[2, 4, 6, 8]\n",
      "[2, 4, 6, 8]\n"
     ]
    }
   ],
   "source": [
    "def double(x):\n",
    "    return 2 * x\n",
    "\n",
    "xs = [1, 2, 3, 4]\n",
    "twice_xs = [double(x) for x in xs]     # list comprehension\n",
    "twice_xs2 = map(double, xs) \n",
    "list_doubler = partial(map, double)    # list의 결과를 2배로 만들어 주는 함수\n",
    "twice_xs3 = list_doubler(xs)\n",
    "print(twice_xs)\n",
    "print(list(twice_xs2))\n",
    "print(list(twice_xs3))"
   ]
  },
  {
   "cell_type": "code",
   "execution_count": 19,
   "metadata": {},
   "outputs": [
    {
     "name": "stdout",
     "output_type": "stream",
     "text": [
      "[4, 10]\n"
     ]
    }
   ],
   "source": [
    "# 여러 개의 list를 입력해 주면 인자가 여러 개인 함수에도 map적용 가능\n",
    "def multiply(x, y): return x * y\n",
    "\n",
    "products = map(multiply, [1, 2], [4, 5])    # [1, * 3, 2 * 5] = [4, 10]\n",
    "print(list(products))"
   ]
  },
  {
   "cell_type": "code",
   "execution_count": 26,
   "metadata": {},
   "outputs": [
    {
     "name": "stdout",
     "output_type": "stream",
     "text": [
      "[2, 4]\n",
      "[2, 4]\n",
      "[2, 4]\n"
     ]
    }
   ],
   "source": [
    "# filter는 if가 포함된 list comprehension과 동일하다.\n",
    "def is_even(x):\n",
    "    \"\"\"x가 짝수면 True, 홀수면 False\"\"\"\n",
    "    return x % 2 == 0\n",
    "\n",
    "x_evens = [x for x in xs if is_even(x)]   \n",
    "x_evens2 = filter(is_even, xs)\n",
    "list_evener = partial(filter, is_even)\n",
    "x_evens3 = list_evener(xs)\n",
    "\n",
    "print(x_evens)\n",
    "print(list(x_evens2))\n",
    "print(list(x_evens3))\n"
   ]
  },
  {
   "cell_type": "code",
   "execution_count": 29,
   "metadata": {},
   "outputs": [
    {
     "name": "stdout",
     "output_type": "stream",
     "text": [
      "24\n",
      "24\n"
     ]
    }
   ],
   "source": [
    "from functools import reduce\n",
    "# reduce \n",
    "x_product = reduce(multiply, xs)\n",
    "list_product = partial(reduce, multiply)\n",
    "x_product2 = list_product(xs)\n",
    "print(x_product)\n",
    "print(x_product2)"
   ]
  },
  {
   "cell_type": "markdown",
   "metadata": {},
   "source": [
    "### 2.2.8 enumerate\n",
    "* list 반복하면서 list의 항목과 인덱스가 모두 필요한 경우\n",
    "* list을 인덱스와 엮어 tuple을 만들어 주는 `enumerate`"
   ]
  },
  {
   "cell_type": "code",
   "execution_count": 31,
   "metadata": {},
   "outputs": [
    {
     "name": "stdout",
     "output_type": "stream",
     "text": [
      "0 a\n",
      "1 b\n",
      "2 c\n",
      "0\n",
      "1\n",
      "2\n"
     ]
    }
   ],
   "source": [
    "documents = [\"a\", \"b\", \"c\"]\n",
    "for i, document in enumerate(documents):\n",
    "    print(i, document) # do_somtething(i, document)\n",
    "\n",
    "# 만약 인덱스만 필요하다면 \n",
    "for i, _ in enumerate(documents): print(i) #do_somthing(i)"
   ]
  },
  {
   "cell_type": "markdown",
   "metadata": {},
   "source": [
    "### 2.2.9 zip과  argument unpacking\n",
    "* 두 개 이사의 list를 서로 묶을 때 `zip(list1, list2)` 사용\n",
    "\n",
    "* argument unpacking(인자 해체) : `*`\n"
   ]
  },
  {
   "cell_type": "code",
   "execution_count": 16,
   "metadata": {},
   "outputs": [],
   "source": [
    "list1 = ['a', 'b', 'c', 'd', 'e']\n",
    "list2 = [1, 2, 3]\n",
    "zipped = zip(list1, list2)\n",
    "\n",
    "#print(list(zipped))"
   ]
  },
  {
   "cell_type": "code",
   "execution_count": 17,
   "metadata": {},
   "outputs": [
    {
     "name": "stdout",
     "output_type": "stream",
     "text": [
      "[('a', 1), ('b', 2), ('c', 3)]\n",
      "('a', 'b', 'c')\n",
      "(1, 2, 3)\n"
     ]
    }
   ],
   "source": [
    "# 묶인 list는 다음과 같은 트릭을 사용해 다시 풀어줄 수도 있음\n",
    "#pairs = [('a', 1), ('b', 2), ('c', 3)]\n",
    "pairs = list(zipped)\n",
    "print(pairs)\n",
    "letters, numbers = zip(*pairs)\n",
    "print(letters)\n",
    "print(numbers)\n"
   ]
  },
  {
   "cell_type": "code",
   "execution_count": null,
   "metadata": {
    "collapsed": true
   },
   "outputs": [],
   "source": [
    "# 인자 해제 기법\n",
    "def add(a, b): return a + b\n",
    "\n",
    "add(1, 2)\n",
    "add([1, 2])\n",
    "add(*[1, 2])"
   ]
  },
  {
   "cell_type": "markdown",
   "metadata": {},
   "source": [
    "### 2.2.10 args와 kwargs\n",
    "* 함수의 파라메터 선언을 유연하게 할 수 있게 해줌 (가변 파라메터)"
   ]
  },
  {
   "cell_type": "code",
   "execution_count": 20,
   "metadata": {},
   "outputs": [
    {
     "name": "stdout",
     "output_type": "stream",
     "text": [
      "8\n",
      "0\n"
     ]
    },
    {
     "ename": "TypeError",
     "evalue": "g() takes 1 positional argument but 2 were given",
     "output_type": "error",
     "traceback": [
      "\u001b[0;31m---------------------------------------------------------------------------\u001b[0m",
      "\u001b[0;31mTypeError\u001b[0m                                 Traceback (most recent call last)",
      "\u001b[0;32m<ipython-input-20-dd89a6c9d845>\u001b[0m in \u001b[0;36m<module>\u001b[0;34m()\u001b[0m\n\u001b[1;32m     19\u001b[0m \u001b[0;34m\u001b[0m\u001b[0m\n\u001b[1;32m     20\u001b[0m \u001b[0mg\u001b[0m \u001b[0;34m=\u001b[0m \u001b[0mdoubler\u001b[0m\u001b[0;34m(\u001b[0m\u001b[0mf2\u001b[0m\u001b[0;34m)\u001b[0m\u001b[0;34m\u001b[0m\u001b[0m\n\u001b[0;32m---> 21\u001b[0;31m \u001b[0mprint\u001b[0m\u001b[0;34m(\u001b[0m\u001b[0mg\u001b[0m\u001b[0;34m(\u001b[0m\u001b[0;36m1\u001b[0m\u001b[0;34m,\u001b[0m\u001b[0;36m2\u001b[0m\u001b[0;34m)\u001b[0m\u001b[0;34m)\u001b[0m\u001b[0;34m\u001b[0m\u001b[0m\n\u001b[0m",
      "\u001b[0;31mTypeError\u001b[0m: g() takes 1 positional argument but 2 were given"
     ]
    }
   ],
   "source": [
    "# 특정함수 f를 입력하면 f의 결과를 두 배로 만드는 함수를 반환해 주는 고차 함수\n",
    "\n",
    "# 파라메터가 1개일 때만 동작\n",
    "def doubler(f):\n",
    "    def g(x):\n",
    "        return 2 * f(x)\n",
    "    return g\n",
    "\n",
    "def f1(x):\n",
    "    return x + 1\n",
    "\n",
    "g = doubler(f1)\n",
    "print(g(3))\n",
    "print(g(-1))\n",
    "\n",
    "# 두 개 이상의 인자를 받는 함수의 경우에는 문제 발생\n",
    "def f2(x, y):\n",
    "    return x + y\n",
    "\n",
    "g = doubler(f2)\n",
    "print(g(1,2))"
   ]
  },
  {
   "cell_type": "code",
   "execution_count": 22,
   "metadata": {},
   "outputs": [
    {
     "name": "stdout",
     "output_type": "stream",
     "text": [
      "unnamed args: (1, 2)\n",
      "keyword args: {'key': 'word', 'key2': 'word2'}\n"
     ]
    }
   ],
   "source": [
    "# 임의의 수를 인자를 받는 함수 선언\n",
    "# argument unpacking\n",
    "def magic(*args, **kwargs):\n",
    "    print(\"unnamed args:\", args)\n",
    "    print(\"keyword args:\", kwargs)\n",
    "    \n",
    "magic(1, 2, key=\"word\", key2=\"word2\")\n"
   ]
  },
  {
   "cell_type": "markdown",
   "metadata": {},
   "source": [
    "* `args` : 이름이 없는 인자로 구성된 `tuple`\n",
    "* `kwargs` :  이름이 주어진 인자로 구성된 `dict`\n"
   ]
  },
  {
   "cell_type": "code",
   "execution_count": 24,
   "metadata": {},
   "outputs": [
    {
     "name": "stdout",
     "output_type": "stream",
     "text": [
      "6\n"
     ]
    }
   ],
   "source": [
    "# 반대로, 정해진 수의 인자가 있는 함수를 호출할 때도 `list`나 `dict`로 인자를 전달할 수 있다.\n",
    "def other_way_magic(x, y, z):\n",
    "    return x + y + z\n",
    "\n",
    "x_y_list = [1, 2]\n",
    "z_dict = { \"z\" :  3 }\n",
    "print(other_way_magic(*x_y_list, **z_dict))"
   ]
  },
  {
   "cell_type": "code",
   "execution_count": 25,
   "metadata": {},
   "outputs": [
    {
     "name": "stdout",
     "output_type": "stream",
     "text": [
      "6\n"
     ]
    }
   ],
   "source": [
    "# 임의의 인자를 입력 받을 수 있는 고차 함수를 만들 때만 `args`, `kwargs`를 사용하자\n",
    "def doubler_correct(f):\n",
    "    \"\"\"f의 인자에 상관없이 작동함\"\"\"\n",
    "    def g(*args, **kwargs):\n",
    "        \"\"\"g의 인자가 무엇이든 간에 f로 보내줌\"\"\"\n",
    "        return 2 * f(*args, **kwargs)\n",
    "    return g\n",
    "\n",
    "g = doubler_correct(f2)\n",
    "print(g(1, 2))"
   ]
  }
 ],
 "metadata": {
  "kernelspec": {
   "display_name": "Python 3",
   "language": "python",
   "name": "python3"
  },
  "language_info": {
   "codemirror_mode": {
    "name": "ipython",
    "version": 3
   },
   "file_extension": ".py",
   "mimetype": "text/x-python",
   "name": "python",
   "nbconvert_exporter": "python",
   "pygments_lexer": "ipython3",
   "version": "3.6.2"
  }
 },
 "nbformat": 4,
 "nbformat_minor": 2
}
