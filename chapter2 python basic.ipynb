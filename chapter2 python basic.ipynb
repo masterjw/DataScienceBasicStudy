{
 "cells": [
  {
   "cell_type": "markdown",
   "metadata": {},
   "source": [
    "# 2장 파이썬 속성 강좌 \n",
    "## 2.1 기본기 다지기\n",
    "### 2.1.1 파이썬 설치하기\n",
    "책의 내용은 python2.7 기준으로 작성됨.\n",
    "python3를 사용하여도 무방함."
   ]
  },
  {
   "cell_type": "markdown",
   "metadata": {},
   "source": [
    "### 2.1.2 The Zen of Python\n",
    "> 무엇을 하든 그것을 할 수 있는 하나의, 가급적이면 단 하나의 당연한 방법이 존재해야 한다.\n",
    "\n",
    "여기서 **당연한** 방식으로 쓰여진 코드를 **파이썬스럽다(Pythonic)**고 한다."
   ]
  },
  {
   "cell_type": "code",
   "execution_count": 1,
   "metadata": {},
   "outputs": [
    {
     "name": "stdout",
     "output_type": "stream",
     "text": [
      "The Zen of Python, by Tim Peters\n",
      "\n",
      "Beautiful is better than ugly.\n",
      "Explicit is better than implicit.\n",
      "Simple is better than complex.\n",
      "Complex is better than complicated.\n",
      "Flat is better than nested.\n",
      "Sparse is better than dense.\n",
      "Readability counts.\n",
      "Special cases aren't special enough to break the rules.\n",
      "Although practicality beats purity.\n",
      "Errors should never pass silently.\n",
      "Unless explicitly silenced.\n",
      "In the face of ambiguity, refuse the temptation to guess.\n",
      "There should be one-- and preferably only one --obvious way to do it.\n",
      "Although that way may not be obvious at first unless you're Dutch.\n",
      "Now is better than never.\n",
      "Although never is often better than *right* now.\n",
      "If the implementation is hard to explain, it's a bad idea.\n",
      "If the implementation is easy to explain, it may be a good idea.\n",
      "Namespaces are one honking great idea -- let's do more of those!\n"
     ]
    }
   ],
   "source": [
    "import this"
   ]
  },
  {
   "cell_type": "markdown",
   "metadata": {},
   "source": [
    "### 2.1.3 들여쓰기\n",
    "* 코드의 단락을 구분하는 데 중괄호(curly braces, {}) 대신 들여쓰기를 사용한다.\n",
    "* 공백문자는 소괄호(parentheses, ())와 대괄호(brackets, [])안에서는 무시된다. \n",
    "    * 여러줄에 걸쳐 보기 좋게 expression을 작성할 경우 소괄호/ 대괄호로 expression을 묶거나 backslash 후 개행을 활용한다."
   ]
  },
  {
   "cell_type": "code",
   "execution_count": 10,
   "metadata": {},
   "outputs": [
    {
     "name": "stdout",
     "output_type": "stream",
     "text": [
      "1\n",
      "    [1] 2\n",
      "    [2] 3\n",
      "    [3] 4\n",
      "    [4] 5\n",
      "    [5] 6\n",
      "2\n",
      "    [1] 3\n",
      "    [2] 4\n",
      "    [3] 5\n",
      "    [4] 6\n",
      "    [5] 7\n",
      "3\n",
      "    [1] 4\n",
      "    [2] 5\n",
      "    [3] 6\n",
      "    [4] 7\n",
      "    [5] 8\n",
      "4\n",
      "    [1] 5\n",
      "    [2] 6\n",
      "    [3] 7\n",
      "    [4] 8\n",
      "    [5] 9\n",
      "5\n",
      "    [1] 6\n",
      "    [2] 7\n",
      "    [3] 8\n",
      "    [4] 9\n",
      "    [5] 10\n",
      "done looping\n"
     ]
    }
   ],
   "source": [
    "prefix = \"    \"\n",
    "for i in [1, 2, 3, 4, 5]:\n",
    "    print(i)\n",
    "    for j in [1, 2, 3, 4, 5]:\n",
    "        print(prefix + \"[\" + str(j) + \"] \" + str(i + j))\n",
    "print(\"done looping\")"
   ]
  },
  {
   "cell_type": "code",
   "execution_count": 14,
   "metadata": {},
   "outputs": [
    {
     "name": "stdout",
     "output_type": "stream",
     "text": [
      "1\n",
      "2\n",
      "3\n",
      "4\n",
      "5\n"
     ]
    }
   ],
   "source": [
    "# 코드의 가독성을 높이기 위해\n",
    "long_winded_computation = (1 + 2 + 3 + 4 + 5 + 6 + 7 + 8 + 9 + 10 + 11 + 12 + \n",
    "                           13 + 14 + 15 + 16 + 17 + 18 + 19 + 20)\n",
    "\n",
    "list_of_lists = [[1, 2, 3], \n",
    "                 [4, 5, 6], \n",
    "                 [7, 8, 9]]\n",
    "\n",
    "two_plus_three = 2 + \\\n",
    "                 3\n",
    "\n",
    "# 빈 줄로 인한 오류 - python shell에서만 발생되는 문제. 지금도 그런가? - 잘되네요. -0-;\n",
    "for i in [1, 2, 3, 4, 5]:\n",
    "    \n",
    "    # 빈 줄이 있다는 것을 확인\n",
    "    print(i)"
   ]
  },
  {
   "cell_type": "markdown",
   "metadata": {},
   "source": [
    "### 2.1.4 모듈\n",
    "\n",
    "* 기본 모듈과 3rd party packages 사용을 위해 ```import```를 사용해야한다.\n",
    "* 이름이 겹치거나 반복 타이핑을 용이하게 하기 위해 별칭(alias)를 사용할 수 있다.\n",
    "* `from 모듈 import 기능[들]` 과 같이 필요한 기능만 불러올 수 있다."
   ]
  },
  {
   "cell_type": "code",
   "execution_count": 21,
   "metadata": {},
   "outputs": [
    {
     "name": "stdout",
     "output_type": "stream",
     "text": [
      "<function match at 0x101cbe378>\n"
     ]
    },
    {
     "data": {
      "text/plain": [
       "re.compile(r'[0-9]+', re.IGNORECASE|re.UNICODE)"
      ]
     },
     "execution_count": 21,
     "metadata": {},
     "output_type": "execute_result"
    }
   ],
   "source": [
    "# 정규표현식 사용을 위한 import\n",
    "# import re as regex  #alias 사용\n",
    "import re\n",
    "print(match)\n",
    "my_regex = re.compile(\"[0-9]+\", re.I)\n",
    "my_regex"
   ]
  },
  {
   "cell_type": "code",
   "execution_count": 18,
   "metadata": {},
   "outputs": [
    {
     "data": {
      "text/plain": [
       "defaultdict(int, {})"
      ]
     },
     "execution_count": 18,
     "metadata": {},
     "output_type": "execute_result"
    }
   ],
   "source": [
    "# 모듈에서 특정 기능만 명시해서 불러올 수 있다\n",
    "from collections import defaultdict, Counter\n",
    "lookup = defaultdict(int)\n",
    "my_counter = Counter()\n",
    "lookup\n",
    "#my_counter\n",
    "#defaultdict"
   ]
  },
  {
   "cell_type": "markdown",
   "metadata": {},
   "source": [
    "* `import X`\n",
    "    * X 모듈을 현재의 namespace에 추가\n",
    "    * `X.foo()` 와 같이 사용\n",
    "    * X라는 이름의 충돌만 없다면 문제없음\n",
    "* `from X import foo`\n",
    "    * X 모듈의 foo를 현재의 namespace에 추가\n",
    "    * `foo()` 와 같이 사용\n",
    "    * foo라는 이름의 충돌만 없다면 문제없음\n",
    "* `from X import *`\n",
    "    * X 모듈에 정의된 모든 것을 현재의 namespace에 추가\n",
    "    * `foo()` 와 같이 사용\n",
    "    * 이름 충돌 발생할 가능성이 매우 높으며, 피해야하는 방법"
   ]
  },
  {
   "cell_type": "code",
   "execution_count": 20,
   "metadata": {},
   "outputs": [
    {
     "name": "stdout",
     "output_type": "stream",
     "text": [
      "<function match at 0x101cbe378>\n"
     ]
    }
   ],
   "source": [
    "# import가 기존 변수를 덮어쓸 수 있다. 피해야하는 사용법\n",
    "match = 10\n",
    "from re import *\n",
    "print(match)"
   ]
  },
  {
   "cell_type": "markdown",
   "metadata": {},
   "source": [
    "### 2.1.6 함수\n",
    "```def```를 이용하여 함수를 정의함."
   ]
  },
  {
   "cell_type": "code",
   "execution_count": 22,
   "metadata": {
    "collapsed": true
   },
   "outputs": [],
   "source": [
    "def double(x):\n",
    "    \"\"\"함수에 대한 설명\"\"\"\n",
    "    return x * 2"
   ]
  },
  {
   "cell_type": "code",
   "execution_count": 23,
   "metadata": {
    "collapsed": true
   },
   "outputs": [],
   "source": [
    "double?"
   ]
  },
  {
   "cell_type": "code",
   "execution_count": 24,
   "metadata": {},
   "outputs": [
    {
     "data": {
      "text/plain": [
       "'testtest'"
      ]
     },
     "execution_count": 24,
     "metadata": {},
     "output_type": "execute_result"
    }
   ],
   "source": [
    "double(\"test\") # 타입체킹 여부 확인 실패 -0-;"
   ]
  },
  {
   "cell_type": "code",
   "execution_count": 25,
   "metadata": {},
   "outputs": [
    {
     "ename": "TypeError",
     "evalue": "double() missing 1 required positional argument: 'x'",
     "output_type": "error",
     "traceback": [
      "\u001b[0;31m---------------------------------------------------------------------------\u001b[0m",
      "\u001b[0;31mTypeError\u001b[0m                                 Traceback (most recent call last)",
      "\u001b[0;32m<ipython-input-25-a8449b08ed61>\u001b[0m in \u001b[0;36m<module>\u001b[0;34m()\u001b[0m\n\u001b[0;32m----> 1\u001b[0;31m \u001b[0mdouble\u001b[0m\u001b[0;34m(\u001b[0m\u001b[0;34m)\u001b[0m \u001b[0;31m# TypeError 발생\u001b[0m\u001b[0;34m\u001b[0m\u001b[0m\n\u001b[0m",
      "\u001b[0;31mTypeError\u001b[0m: double() missing 1 required positional argument: 'x'"
     ]
    }
   ],
   "source": [
    "double() # TypeError 발생"
   ]
  },
  {
   "cell_type": "markdown",
   "metadata": {},
   "source": [
    "python의 함수들은 변수로 할당되거나 함수의 인자로 전달할 수 있다는 점에서 일급 함수(first-class)의 특성을 가진다."
   ]
  },
  {
   "cell_type": "code",
   "execution_count": 8,
   "metadata": {},
   "outputs": [
    {
     "data": {
      "text/plain": [
       "2"
      ]
     },
     "execution_count": 8,
     "metadata": {},
     "output_type": "execute_result"
    }
   ],
   "source": [
    "def apply_to_one(f):\n",
    "    \"\"\"인자가 1인 함수 f를 호출\"\"\"\n",
    "    return f(1)\n",
    "\n",
    "my_double = double\n",
    "x = apply_to_one(my_double)\n",
    "x"
   ]
  },
  {
   "cell_type": "code",
   "execution_count": 9,
   "metadata": {},
   "outputs": [
    {
     "data": {
      "text/plain": [
       "5"
      ]
     },
     "execution_count": 9,
     "metadata": {},
     "output_type": "execute_result"
    }
   ],
   "source": [
    "# 짧은 익명의 람다 함수도 간편하게 만들 수 있다.\n",
    "y = apply_to_one(lambda x: x + 4)\n",
    "y"
   ]
  },
  {
   "cell_type": "markdown",
   "metadata": {
    "collapsed": true
   },
   "source": [
    "변수에 람다 함수를 담을 수도 있다. 그러나...\n",
    "1. `def another_double(x): return 2 * x`\n",
    "2. `another_double = lambda x: 2 * x       # 이 방법은 최대한 피하도록 하자. 왜???`\n",
    "\n",
    "> The first form means that the name of the resulting function object is specifically ‘another_double’ instead of the generic ‘&lt;lambda>’. This is more useful for tracebacks and string representations in general. The use of the assignment statement eliminates the sole benefit a lambda expression can offer over an explicit def statement (i.e. that it can be embedded inside a larger expression)\n",
    "\n"
   ]
  },
  {
   "cell_type": "code",
   "execution_count": 12,
   "metadata": {},
   "outputs": [
    {
     "name": "stdout",
     "output_type": "stream",
     "text": [
      "hello\n",
      "my default message\n"
     ]
    }
   ],
   "source": [
    "# 인자에 기본값 할당\n",
    "def my_print(message=\"my default message\"):\n",
    "    print(message)\n",
    "\n",
    "my_print(\"hello\")\n",
    "my_print()"
   ]
  },
  {
   "cell_type": "code",
   "execution_count": 2,
   "metadata": {},
   "outputs": [
    {
     "data": {
      "text/plain": [
       "-5"
      ]
     },
     "execution_count": 2,
     "metadata": {},
     "output_type": "execute_result"
    }
   ],
   "source": [
    "# 인자의 이름을 명시해 주면 편리함\n",
    "def subtract(a=0, b=0):\n",
    "    return a - b\n",
    "\n",
    "subtract(10, 5)\n",
    "subtract(0, 5)\n",
    "subtract(b=5)"
   ]
  },
  {
   "cell_type": "markdown",
   "metadata": {},
   "source": [
    "### 2.1.7 문자열\n",
    "문자열(string)은 작은 따옴표(') 또는 큰 따옴표(\")로 묶어 나타낸다. "
   ]
  },
  {
   "cell_type": "code",
   "execution_count": 4,
   "metadata": {
    "collapsed": true
   },
   "outputs": [],
   "source": [
    "single_quoted_string = 'data science'\n",
    "double_quoted_string = \"data science\""
   ]
  },
  {
   "cell_type": "code",
   "execution_count": 6,
   "metadata": {},
   "outputs": [
    {
     "data": {
      "text/plain": [
       "1"
      ]
     },
     "execution_count": 6,
     "metadata": {},
     "output_type": "execute_result"
    }
   ],
   "source": [
    "# 일부 특수 문자를 인코딩할 때 역슬래시를 사용\n",
    "tab_string = \"\\t\"\n",
    "len(tab_string)   #1"
   ]
  },
  {
   "cell_type": "code",
   "execution_count": 7,
   "metadata": {},
   "outputs": [
    {
     "data": {
      "text/plain": [
       "2"
      ]
     },
     "execution_count": 7,
     "metadata": {},
     "output_type": "execute_result"
    }
   ],
   "source": [
    "# 만약 역슬래시를 역스래시로 보이는 문자로 사용하고 싶다면 \n",
    "# (특히 윈도우 디렉터리 이름이나 정규표현식에서 사용하고 싶을 때) \n",
    "# 문자열 앞에 r을 붙여 raw string이라고 명시하면 된다.\n",
    "not_tab_string = r\"\\t\"\n",
    "len(not_tab_string)     #2"
   ]
  },
  {
   "cell_type": "code",
   "execution_count": 10,
   "metadata": {},
   "outputs": [
    {
     "name": "stdout",
     "output_type": "stream",
     "text": [
      "This is the first line.\n",
      "    and this is the second line\n",
      "    and this is third line\n"
     ]
    }
   ],
   "source": [
    "# 세 개의 따옴표를 사용하면 하나의 문자열을 여러 줄로 나눠서 나타낼 수 있다.\n",
    "multi_line_string = \"\"\"This is the first line.\n",
    "    and this is the second line\n",
    "    and this is third line\"\"\"\n",
    "print(multi_line_string)"
   ]
  },
  {
   "cell_type": "markdown",
   "metadata": {},
   "source": [
    "### 또 2.1.7 예외 처리\n",
    "코드가 뭔가 잘못되었을 때 파이썬을 예외(exception)를 발생시킨다.   \n",
    "예외를 제대로 처리해 주지 않으면 프로그램이 죽는데, 이를 방지하기 위해 사용할 수 있는 것이 `try`와 `except`이다."
   ]
  },
  {
   "cell_type": "code",
   "execution_count": 11,
   "metadata": {},
   "outputs": [
    {
     "name": "stdout",
     "output_type": "stream",
     "text": [
      "cannot divide by zero\n"
     ]
    }
   ],
   "source": [
    "try:\n",
    "    print(0 / 0)\n",
    "except ZeroDivisionError:\n",
    "    print(\"cannot divide by zero\")"
   ]
  },
  {
   "cell_type": "markdown",
   "metadata": {},
   "source": [
    "많은 프로그래밍 언어에서 예외 처리는 나쁜 것이라고 받아들여지지만(??? 금시초문)  \n",
    "파이썬에서는 코드를 깔끔하게 작성하기 위해서라면 얼마든지 사용된다."
   ]
  },
  {
   "cell_type": "markdown",
   "metadata": {},
   "source": [
    "### 2.1.8 list\n",
    "- 파이썬의 가장 기봊적인 데이터 구조\n",
    "- ordered collection (like array in other language)"
   ]
  },
  {
   "cell_type": "code",
   "execution_count": 15,
   "metadata": {},
   "outputs": [
    {
     "name": "stdout",
     "output_type": "stream",
     "text": [
      "3\n",
      "6\n"
     ]
    }
   ],
   "source": [
    "integer_list = [1, 2, 3]\n",
    "heterogeneous_list = [\"string\", 0.1, True]\n",
    "list_of_lists = [ integer_list, heterogeneous_list, [] ]\n",
    "\n",
    "list_length = len(integer_list)\n",
    "print(list_length)\n",
    "list_sum = sum(integer_list)\n",
    "print(list_sum)"
   ]
  },
  {
   "cell_type": "markdown",
   "metadata": {},
   "source": [
    "Python3에서 range는 list와 다르게 동작함.\n",
    "* 아래 예제와 같이 `x[0] = -1`과 같이 assign이 동작하지 않음\n",
    "* 따라서 list로 변환해줘야 함.\n",
    ">The advantage of the range type over a regular list or tuple is that a range object will always take the same (small) amount of memory, no matter the size of the range it represents (as it only stores the start, stop and step values, calculating individual items and subranges as needed)."
   ]
  },
  {
   "cell_type": "code",
   "execution_count": 10,
   "metadata": {},
   "outputs": [
    {
     "name": "stdout",
     "output_type": "stream",
     "text": [
      "zero: 0 , one: 1 , nine: 9 , eight: 8\n",
      "x   : [-1, 1, 2, 3, 4, 5, 6, 7, 8, 9]\n",
      "\n",
      "first_three           : [-1, 1, 2]\n",
      "three_to_end          : [3, 4, 5, 6, 7, 8, 9]\n",
      "one_to_four           : [1, 2, 3, 4]\n",
      "last_three            : [7, 8, 9]\n",
      "without_first_and_last: [1, 2, 3, 4, 5, 6, 7, 8]\n",
      "copy_of_x             : [-1, 1, 2, 3, 4, 5, 6, 7, 8, 9]\n"
     ]
    }
   ],
   "source": [
    "x = list(range(10)) # [0, 1, ..., 9] 형태의 list\n",
    "zero = x[0]   \n",
    "one = x[1]    \n",
    "nine = x[-1]  \n",
    "eight = x[-2]  \n",
    "x[0] = -1\n",
    "print(\"zero:\", zero, \", one:\", one, \", nine:\", nine, \", eight:\", eight)\n",
    "print(\"x   :\", x)\n",
    "print()\n",
    "\n",
    "first_three = x[:3]\n",
    "three_to_end = x[3:]\n",
    "one_to_four = x[1:5]\n",
    "last_three = x[-3:]\n",
    "without_first_and_last=x[1:-1]\n",
    "copy_of_x = x[:]\n",
    "print(\"first_three           :\", first_three)\n",
    "print(\"three_to_end          :\", three_to_end)\n",
    "print(\"one_to_four           :\", one_to_four)\n",
    "print(\"last_three            :\", last_three)\n",
    "print(\"without_first_and_last:\", without_first_and_last)\n",
    "print(\"copy_of_x             :\", copy_of_x)"
   ]
  },
  {
   "cell_type": "code",
   "execution_count": 17,
   "metadata": {},
   "outputs": [
    {
     "name": "stdout",
     "output_type": "stream",
     "text": [
      "True\n",
      "False\n"
     ]
    }
   ],
   "source": [
    "# `in` 연산자 :  list안에 항목의 존재 여부를 확인\n",
    "# O(N) - 모든 항목을 순회\n",
    "print(1 in [1, 2, 3])\n",
    "print(0 in [1, 2, 3])"
   ]
  },
  {
   "cell_type": "code",
   "execution_count": 19,
   "metadata": {},
   "outputs": [
    {
     "name": "stdout",
     "output_type": "stream",
     "text": [
      "[1, 2, 3, 4, 5, 6]\n"
     ]
    }
   ],
   "source": [
    "x = [1, 2, 3]\n",
    "x.extend([4, 5, 6])\n",
    "print(x)\n",
    "y = x + [4, 5, 6] # x 수정없이 "
   ]
  },
  {
   "cell_type": "code",
   "execution_count": 20,
   "metadata": {},
   "outputs": [
    {
     "name": "stdout",
     "output_type": "stream",
     "text": [
      "0\n",
      "4\n"
     ]
    }
   ],
   "source": [
    "x = [1, 2, 3]\n",
    "x.append(0)\n",
    "y = x[-1]\n",
    "print(y)\n",
    "z= len(x)\n",
    "print(z)"
   ]
  },
  {
   "cell_type": "code",
   "execution_count": 11,
   "metadata": {},
   "outputs": [
    {
     "name": "stdout",
     "output_type": "stream",
     "text": [
      "ValueError occurred\n"
     ]
    }
   ],
   "source": [
    "# 리스트에 항목이 몇 개있는지 알고 있다면 unpack 사용 가능\n",
    "x, y = [1, 2]  \n",
    "# 하지만 양쪽 항목의 개수가 다르다면 ValueError 발생\n",
    "_, y = [1, 2]\n",
    "# 위와 같이 사용하지 않는 변수 생략가능\n",
    "try:\n",
    "    _, _, z = [1, 2]\n",
    "except ValueError:\n",
    "    print(\"ValueError occurred\")\n"
   ]
  },
  {
   "cell_type": "markdown",
   "metadata": {},
   "source": [
    "### 2.1.9 tuple\n",
    "* **tuple은 변경할 수 없는 list**임.\n",
    "* tuple은 대괄호 대신 괄호를 사용해서 (혹은 아무런 기호 없이) 정의한다."
   ]
  },
  {
   "cell_type": "code",
   "execution_count": 15,
   "metadata": {},
   "outputs": [
    {
     "name": "stdout",
     "output_type": "stream",
     "text": [
      "my_list: [1, 3]\n",
      "cannot modify a tuple\n"
     ]
    }
   ],
   "source": [
    "my_list = [1, 2]\n",
    "my_tuple = (1, 2)\n",
    "other_tuple = 3, 4\n",
    "my_list[1] = 3\n",
    "print(\"my_list:\", my_list)\n",
    "\n",
    "try:\n",
    "    my_tuple[1] = 3\n",
    "except TypeError:\n",
    "    print(\"cannot modify a tuple\")"
   ]
  },
  {
   "cell_type": "code",
   "execution_count": 16,
   "metadata": {},
   "outputs": [
    {
     "name": "stdout",
     "output_type": "stream",
     "text": [
      "(5, 6) 15 50\n"
     ]
    }
   ],
   "source": [
    "# 함수에서 여러 값을 반환할 때 tuple을 사용\n",
    "def sum_and_product(x, y):\n",
    "    return (x + y), (x * y)\n",
    "sp = sum_and_product(2, 3)\n",
    "s, p = sum_and_product(5, 10)\n",
    "print(sp, s, p)"
   ]
  },
  {
   "cell_type": "code",
   "execution_count": 17,
   "metadata": {},
   "outputs": [
    {
     "name": "stdout",
     "output_type": "stream",
     "text": [
      "x: 2 , y: 1\n"
     ]
    }
   ],
   "source": [
    "# tuple과 list는 다중 할당(multiple assignment)을 지원\n",
    "x, y = 1, 2\n",
    "x, y = y, x     # 가장 파이썬스럽게 swap\n",
    "print(\"x:\", x, \", y:\", y)"
   ]
  },
  {
   "cell_type": "markdown",
   "metadata": {
    "collapsed": true
   },
   "source": [
    "### 2.1.10 dict\n",
    "* dictionary는 unique한 key값에 연결되 value를 담는 container\n",
    "* dict의 key는 수정할 수 없음\n",
    "* list를 key로 사용할 수 없음\n",
    "    * 만약 다양한 값으로 구성된 key가 필요하다면 tuple이나 문자열을 key로 사용\n"
   ]
  },
  {
   "cell_type": "code",
   "execution_count": 18,
   "metadata": {},
   "outputs": [
    {
     "name": "stdout",
     "output_type": "stream",
     "text": [
      "80\n",
      "no grade for Kate!\n"
     ]
    }
   ],
   "source": [
    "empty_dict = {}        # 가장 파이썬스럽게 dict 만드는 방법\n",
    "empty_dict = dict()    # 덜 파이썬스럽게 dict를 만드는 방법\n",
    "grades = { \"Joel\" : 80, \"Tim\" : 95 }\n",
    "joels_grade = grades[\"Joel\"]\n",
    "print(joels_grade)\n",
    "\n",
    "# dict에 존재하지 않는 key를 입력하면 KeyError발생\n",
    "try:\n",
    "    kates_grade = grades[\"Kate\"]\n",
    "except KeyError:\n",
    "    print(\"no grade for Kate!\")\n"
   ]
  },
  {
   "cell_type": "code",
   "execution_count": 20,
   "metadata": {},
   "outputs": [
    {
     "name": "stdout",
     "output_type": "stream",
     "text": [
      "True False\n",
      "80 0 None\n"
     ]
    }
   ],
   "source": [
    "# 연산자 `in`을 사용하면 key의 존재 여부를 확인할 수 있음\n",
    "joel_has_grade = \"Joel\" in grades   \n",
    "kate_has_grade = \"Kate\" in grades\n",
    "print(joel_has_grade, kate_has_grade)\n",
    "\n",
    "# `get` 메서드를 사용하면 입력한 key가 dict에 없어도 에러를 반환하지 않고 기본값을 반환해 줌\n",
    "joels_grade = grades.get(\"Joel\", 0)\n",
    "kates_grade = grades.get(\"Kate\", 0)\n",
    "no_ones_grade = grades.get(\"No One\")  # 없을 때의 default 값은 None\n",
    "print(joels_grade, kates_grade, no_ones_grade)"
   ]
  },
  {
   "cell_type": "markdown",
   "metadata": {},
   "source": [
    "#### defaultdict\n",
    "* 존재하지 않은 key의 value를 조회 시, 자동으로 기본 value을 해당 key값에 추가해줌\n",
    "* 자동으로 추가되는 기본값은 defaultdict 생성 시 인자로 넘어가는 default_factory"
   ]
  },
  {
   "cell_type": "code",
   "execution_count": 22,
   "metadata": {},
   "outputs": [],
   "source": [
    "# 1. 단어 수를 세는 방법 : 키값 존재 여부 확인\n",
    "document = \"\"\n",
    "word_counts = {}\n",
    "for word in document:\n",
    "    if word in word_counts:\n",
    "        word_counts[word] += 1\n",
    "    else:\n",
    "        word_counts[word] = 1\n",
    "\n",
    "# 2. 예외 활용\n",
    "word_counts = {}\n",
    "for word in document:\n",
    "    try:\n",
    "        word_counts[word] += 1\n",
    "    except KeyError:\n",
    "        word_counts[word] = 1\n",
    "\n",
    "# 3. get 사용\n",
    "word_counts = {}\n",
    "for word in document:\n",
    "    previous_count = word_count.get(word, 0)\n",
    "    word_counts[word] = previous_count + 1"
   ]
  },
  {
   "cell_type": "code",
   "execution_count": 24,
   "metadata": {},
   "outputs": [
    {
     "name": "stdout",
     "output_type": "stream",
     "text": [
      "defaultdict(<class 'list'>, {2: [1]})\n",
      "defaultdict(<class 'dict'>, {'Joel': {'City': 'Seattle'}})\n",
      "defaultdict(<function <lambda> at 0x10a3872f0>, {2: [0, 1]})\n"
     ]
    }
   ],
   "source": [
    "# defaultdict 사용\n",
    "from collections import defaultdict\n",
    "\n",
    "word_counts = defaultdict(int)   # int()는 0을 생성\n",
    "for word in document:\n",
    "    word_counts[word] += 1\n",
    "    \n",
    "# list, dict 또는 직접 만든 함수를 인자(default_factory)로 넣을 수 있다.\n",
    "dd_list = defaultdict(list)\n",
    "dd_list[2].append(1)\n",
    "print(dd_list)\n",
    "\n",
    "dd_dict = defaultdict(dict) \n",
    "dd_dict[\"Joel\"][\"City\"] = \"Seattle\"\n",
    "print(dd_dict)\n",
    "\n",
    "dd_pair = defaultdict(lambda: [0, 0])\n",
    "dd_pair[2][1] = 1\n",
    "print(dd_pair)"
   ]
  },
  {
   "cell_type": "markdown",
   "metadata": {},
   "source": [
    "#### Counter\n",
    "* Counter는 연속된 값을 `defaultdict(int)`와 유사한 객체로 변환해 주며, key와 value의 빈도를 연결시켜 준다. \n",
    "* 히스토그램 그릴 때 유용함"
   ]
  },
  {
   "cell_type": "code",
   "execution_count": 26,
   "metadata": {},
   "outputs": [
    {
     "name": "stdout",
     "output_type": "stream",
     "text": [
      "Counter({0: 2, 1: 1, 2: 1})\n"
     ]
    }
   ],
   "source": [
    "from collections import Counter\n",
    "c = Counter([0, 1, 2, 0])\n",
    "print(c)\n",
    "\n"
   ]
  },
  {
   "cell_type": "code",
   "execution_count": 29,
   "metadata": {},
   "outputs": [],
   "source": [
    "document = \"\"\n",
    "\n",
    "# 단어 수 셀 때도 유용함.\n",
    "word_counts = Counter(document)\n",
    "\n",
    "# Counter 객체에는 유용한 `most_common` 함수가 있음\n",
    "#  가장 자주 나오는 단어  10개와 이 단어들의 빈도수를 출력\n",
    "for word, count in word_counts.most_common(10):\n",
    "    print(word, count)"
   ]
  },
  {
   "cell_type": "markdown",
   "metadata": {},
   "source": [
    "### 2.1.11 set\n",
    "집합을 나타내는 컨테이너"
   ]
  },
  {
   "cell_type": "code",
   "execution_count": null,
   "metadata": {
    "collapsed": true
   },
   "outputs": [],
   "source": []
  },
  {
   "cell_type": "code",
   "execution_count": null,
   "metadata": {
    "collapsed": true
   },
   "outputs": [],
   "source": []
  }
 ],
 "metadata": {
  "kernelspec": {
   "display_name": "Python 3",
   "language": "python",
   "name": "python3"
  },
  "language_info": {
   "codemirror_mode": {
    "name": "ipython",
    "version": 3
   },
   "file_extension": ".py",
   "mimetype": "text/x-python",
   "name": "python",
   "nbconvert_exporter": "python",
   "pygments_lexer": "ipython3",
   "version": "3.6.2"
  }
 },
 "nbformat": 4,
 "nbformat_minor": 2
}
