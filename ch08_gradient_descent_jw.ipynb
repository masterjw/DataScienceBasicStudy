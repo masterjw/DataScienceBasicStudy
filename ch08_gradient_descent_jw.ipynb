{
 "cells": [
  {
   "cell_type": "markdown",
   "metadata": {},
   "source": [
    "# ch08. 경사하강법 (gradient descent)\n",
    "\n",
    "데이터 과학을 하다 보면 특정 상황에 **가장 적합**한 모델을 찾아야 할 때가 많다.\n",
    "* 가장 적합한(best) == `모델의 오류를 최소화 하는`, `likelihood(우도)를 최대화하는`\n",
    "* 어떤 최적화 문제에 대한 답을 찾는 것\n",
    "\n",
    "> [likelihood 가능도?](http://rstudio-pubs-static.s3.amazonaws.com/204928_c2d6c62565b74a4987e935f756badfba.html) PDF에서의 y값 \n",
    "\n",
    "## 목차\n",
    "* [8.1 경사 하강법에 숨은 의미](#8.1-경사-하강법에-숨은-의미)\n",
    "* [8.2 Gradient 계산하기](#8.2-Gradient-계산하기)\n",
    "* [8.3 Gradient 적용하기](#8.3-Gradient-적용하기)\n",
    "* [8.4 적절한 이동 거리 정하기](#8.4-적절한-이동-거리-정하기)\n",
    "* [8.5 종합하기](#8.5-종합하기)\n",
    "* [8.6 SGD(stochastic gradient descent)](#8.6-SGD(stochastic-gradient-descent))\n",
    "* [8.7 더 공부해 보고 싶다면](#8.7-더-공부해-보고-싶다면)\n"
   ]
  },
  {
   "cell_type": "code",
   "execution_count": 1,
   "metadata": {
    "collapsed": true
   },
   "outputs": [],
   "source": [
    "# importing cell\n",
    "import random\n",
    "import math\n",
    "import numpy as np\n",
    "import matplotlib.pyplot as plt\n",
    "\n",
    "def dot(v, w):\n",
    "    \"\"\"v_1 * w_1 + ... + v_n * w_n\"\"\"\n",
    "    return sum(v_i * w_i for v_i, w_i in zip(v, w))\n",
    "\n",
    "def sum_of_squares(v):\n",
    "    \"\"\"v_1 * v_1 + ... + v_n * v_n\"\"\"\n",
    "    return dot(v, v)\n",
    "\n",
    "def squared_distance(v, w):\n",
    "    return sum_of_squares(vector_subtract(v, w))  \n",
    "\n",
    "def distance(v, w):\n",
    "   return math.sqrt(squared_distance(v, w))\n",
    "\n",
    "def vector_subtract(v, w):\n",
    "    \"\"\"subtracts two vectors componentwise\"\"\"\n",
    "    return [v_i - w_i for v_i, w_i in zip(v,w)]\n",
    "\n",
    "def scalar_multiply(c, v):\n",
    "    return [c * v_i for v_i in v]"
   ]
  },
  {
   "cell_type": "markdown",
   "metadata": {},
   "source": [
    "## 8.1 경사 하강법에 숨은 의미\n",
    "실수 벡터를 입력하면 실수 하나를 출력해 주는 함수 f가 있다고 해보자.\n",
    "그리고 이 함수의 최대(혹은 최소)값을 찾아야 한다면,\n",
    "1. 임의의 지점을 정한다.\n",
    "2. 해당 지점에서 함수의 gradient를 구한다.\n",
    "    * gradient(경사, 기울기)는 함수가 가장 빠르게 증가할 수 있는 방향\n",
    "    * gradient는 편미분 벡터\n",
    "3. gradient의 방향으로 조금 이동한다.\n",
    "4. 최대/최소값에 도달하지 않았다면 2로 이동 후 반복한다.\n",
    "> 이 방법은 함수 하나의 전역 최솟값(global minimum)이 존재하는 경우 확실한 결과를 보장한다. 하지만 함수에 지역 최솟값(local minimum)이 여러 개 있는 경우에는 시작점을 어디로 잡느냐에 따라 잘못된 곳으로 빠질 수 있다. 그런 경우에는, 기존의 점과 다른 다양한 시작점에서 경사 하강법을 사용해 볼 수 있다. 만일 최소값이 존재하지 않는다면, 이 과정은 영원히 끝나지 않을 수도 있다.\n"
   ]
  },
  {
   "cell_type": "code",
   "execution_count": 2,
   "metadata": {},
   "outputs": [
    {
     "name": "stdout",
     "output_type": "stream",
     "text": [
      "r1: 285 , r2: 285\n"
     ]
    }
   ],
   "source": [
    "def sum_of_squares(v):\n",
    "    \"\"\"v에 속해 있는 항목들의 제곱합을 계산한다.\"\"\"\n",
    "    return sum(v_i ** 2 for v_i in v)\n",
    "\n",
    "vector = [i for i in range(10)]\n",
    "r1 = sum_of_squares(vector)\n",
    "r2 = np.sum(np.square(vector))\n",
    "print(\"r1:\", r1, \", r2:\", r2)"
   ]
  },
  {
   "cell_type": "markdown",
   "metadata": {},
   "source": [
    "## 8.2 Gradient 계산하기\n",
    "\n",
    "f가 단변수 함수인 경우, \n",
    "* 점 x에서의 미분값 : x가 아주 조금 변했을 때 f(x)의 변화량\n",
    "$$ \\lim_{h->0}\\frac{f(x + h) - f(x)}{h} $$\n",
    "\n",
    "* 도함수(deivative) \n",
    "$$ f^\\prime(x) = \\lim_{h->0}\\frac{f(x + h) - f(x)}{h} $$\n",
    "\n",
    "> 점 x의 적당한 근방에서 정의된 함수 f에 대하여, 극한값이 존재하는 경우에, \n",
    "f는 x에서 미분가능하다(differentiable)고 하고, 극한값을 f의 x에서의 도함수(derivative)라고 하며, $ f^\\prime(x)$로 나타낸다.\n",
    "\n",
    "f가 다변수 함수라면, \n",
    "* f(x)의 변화량을 알려주는 편도함수(partial derivative) 역시 여러 개 존재한다.\n",
    "$$ \\frac{\\partial f}{\\partial x} = f_x(x, y, z) = \\lim_{h->0}\\frac{f(x + h,y,z) - f(x,y,z)}{h} $$ \n",
    "$$ \\frac{\\partial f}{\\partial y} = f_y(x, y, z) = \\lim_{h->0}\\frac{f(x,y + h,z) - f(x,y,z)}{h} $$\n",
    "$$ \\frac{\\partial f}{\\partial z} = f_z(x, y, z) = \\lim_{h->0}\\frac{f(x,y,z + h) - f(x,y,z)}{h} $$\n",
    "\n",
    "* gradient\n",
    "$$ \\nabla f(\\boldsymbol x) = \\frac{\\partial f}{\\partial x}(\\boldsymbol x)\\boldsymbol i + \\frac{\\partial f}{\\partial y}(\\boldsymbol x)\\boldsymbol j + \\frac{\\partial f}{\\partial z}(\\boldsymbol x)\\boldsymbol k $$"
   ]
  },
  {
   "cell_type": "code",
   "execution_count": 3,
   "metadata": {
    "collapsed": true
   },
   "outputs": [],
   "source": [
    "def difference_quotient(f, x, h):\n",
    "    return (f(x + h) - f(x)) / h"
   ]
  },
  {
   "cell_type": "code",
   "execution_count": 6,
   "metadata": {},
   "outputs": [
    {
     "data": {
      "image/png": "[encoded data removed]",
      "text/plain": [
       "<matplotlib.figure.Figure at 0x10521b400>"
      ]
     },
     "metadata": {},
     "output_type": "display_data"
    }
   ],
   "source": [
    "def plot_estimated_derivative():\n",
    "    def square(x):\n",
    "        return x * x\n",
    "\n",
    "    def derivative(x):\n",
    "        return 2 * x\n",
    "\n",
    "    derivative_estimate = lambda x: difference_quotient(square, x, h=0.00001)\n",
    "\n",
    "    # 두 계산식에 따른 결과값이 거의 비슷함을 보여 주기 위한 그래프\n",
    "    x = range(-10,10)\n",
    "    plt.plot(x, list(map(derivative, x)), 'rx')           # red  x\n",
    "    plt.plot(x, list(map(derivative_estimate, x)), 'b+')  # blue +\n",
    "    plt.show()\n",
    "\n",
    "plot_estimated_derivative()"
   ]
  },
  {
   "cell_type": "code",
   "execution_count": 7,
   "metadata": {
    "collapsed": true
   },
   "outputs": [],
   "source": [
    "def partial_difference_quotient(f, v, i, h):\n",
    "    \"\"\"함수 f의 i번째 편도함수가 v에서 가지는 값\"\"\"\n",
    "    w = [v_j + (h if j == i else 0)    # h를 v의 i번째 변수에만 더해주자\n",
    "         for j, v_j in enumerate(v)]\n",
    "\n",
    "    return (f(w) - f(v)) / h\n",
    "\n",
    "def estimate_gradient(f, v, h=0.00001):\n",
    "    return [partial_difference_quotient(f, v, i, h)\n",
    "            for i, _ in enumerate(v)]"
   ]
  },
  {
   "cell_type": "markdown",
   "metadata": {},
   "source": [
    "> 함수 두 값의 차이를 사용해서 근사하는 것의 가장 큰 단점은 계산 비용이 크다는 것이다.  \n",
    "v의 길이가 n이면 estimate_gradient함수는 f를 2n번 계산해야 한다.  \n",
    "따라서 빈번하게 계산하는 경우, 불필요한 계산도 많이 하게된다."
   ]
  },
  {
   "cell_type": "markdown",
   "metadata": {},
   "source": [
    "## 8.3 Gradient 적용하기\n",
    "* `sum_of_aquares`는 v가 0벡터일 때 가장 작은 값을 가진다. \n",
    "* 이 사실을 모른다고 가정하고, 경사 하강법을 이용해 **3차원 벡터**의 최솟값을 구하는 예제\n",
    "    * 임의의 시작점을 잡고, gradient가 아주 작아질 때까지 경사의 반대 방향으로 조금씩 이동"
   ]
  },
  {
   "cell_type": "code",
   "execution_count": 9,
   "metadata": {
    "collapsed": true
   },
   "outputs": [],
   "source": [
    "def step(v, direction, step_size):\n",
    "    \"\"\"v에서 step_size만큼 이동하기\"\"\"\n",
    "    return [v_i + step_size * direction_i\n",
    "            for v_i, direction_i in zip(v, direction)]\n",
    "\n",
    "def sum_of_squares_gradient(v):\n",
    "    return [2 * v_i for v_i in v]"
   ]
  },
  {
   "cell_type": "code",
   "execution_count": 20,
   "metadata": {},
   "outputs": [
    {
     "name": "stdout",
     "output_type": "stream",
     "text": [
      "using the gradient\n",
      "minimum v [0.00029094373074783095, 0.0003636796634347929, 0.00018183983171739644]\n",
      "minimum value 2.4997687645652166e-07\n",
      "2.249e-05\n"
     ]
    }
   ],
   "source": [
    "print(\"using the gradient\")\n",
    "# 임의의 시작점을 선택\n",
    "v = [random.randint(-10,10) for i in range(3)]\n",
    "tolerance = 0.0000001\n",
    "\n",
    "while True:\n",
    "    #print v, sum_of_squares(v)\n",
    "    gradient = sum_of_squares_gradient(v)   # v의 gradient 계산\n",
    "    next_v = step(v, gradient, -0.0001)     # 경사도의 음수만큼 이동\n",
    "    if distance(next_v, v) < tolerance:     # tolerance에 수렴하게 되면 멈춤\n",
    "        break\n",
    "    v = next_v                              # 아니면 계속 반복\n",
    "\n",
    "print(\"minimum v\", v)\n",
    "print(\"minimum value\", sum_of_squares(v))\n"
   ]
  },
  {
   "cell_type": "markdown",
   "metadata": {},
   "source": [
    "## 8.4 적절한 이동 거리 정하기\n",
    "경사를 따라 이동한다는 논리는 명백하지만, 이동 거리(step size)를 정하는 것은 그렇지 않다.  \n",
    "실제로 이동거리를 정하는 것은 과학보다는 기술(art)에 가깝다.  \n",
    "몇 가지 일반적인 옵션은,\n",
    "* 이동 거리를 고정\n",
    "* 시간에 따라 이동 거리를 점차 줄임\n",
    "* 이동할 때마다 목적 함수를 최소화하는 이동 거리로 정함\n",
    "    * 전체를 다 계산하기에는 계산 비용이 크므로 몇몇 정해진 이동 거리를 시도해 보고 그 중에 작은 값으로 정하는 방법이 있다.\n",
    "    * e.g. ) `step_sizes = [100, 10, 1, 0.1, 0.01, 0.001, 0.0001, 0.00001]`\n",
    "    * 이 step_sizes 계산 결과의 몇몇은 오류를 발생시킬 수도 있으므로 아래와 같이 safe함수로 wrapping하는 방법을 적용할 수 있다. "
   ]
  },
  {
   "cell_type": "code",
   "execution_count": 25,
   "metadata": {
    "collapsed": true
   },
   "outputs": [],
   "source": [
    "def safe(f):\n",
    "    \"\"\"f와 똑같은 함수를 반환하지만 f에 오류가 발생하면 무한대를 반환해준다\"\"\"\n",
    "    def safe_f(*args, **kwargs):\n",
    "        try:\n",
    "            return f(*args, **kwargs)\n",
    "        except:\n",
    "            return float('inf')         # this means \"infinity\" in Python\n",
    "    return safe_f"
   ]
  },
  {
   "cell_type": "markdown",
   "metadata": {},
   "source": [
    "## 8.5 종합하기"
   ]
  },
  {
   "cell_type": "code",
   "execution_count": 26,
   "metadata": {
    "collapsed": true
   },
   "outputs": [],
   "source": [
    "#\n",
    "#\n",
    "# minimize / maximize batch\n",
    "#\n",
    "#\n",
    "\n",
    "def minimize_batch(target_fn, gradient_fn, theta_0, tolerance=0.000001):\n",
    "    \"\"\"목적 함수를 최소화시키는 theta를 경사 하강법을 사용해서 찾아준다.\"\"\"\n",
    "\n",
    "    step_sizes = [100, 10, 1, 0.1, 0.01, 0.001, 0.0001, 0.00001]\n",
    "\n",
    "    theta = theta_0                           # theta를 시작점으로 설정\n",
    "    target_fn = safe(target_fn)               # safe version of target_fn\n",
    "    value = target_fn(theta)                  # value we're minimizing\n",
    "\n",
    "    while True:\n",
    "        gradient = gradient_fn(theta)\n",
    "        next_thetas = [step(theta, gradient, -step_size)\n",
    "                       for step_size in step_sizes]\n",
    "\n",
    "        # 함수를 최소화 시키는 theta 선택\n",
    "        next_theta = min(next_thetas, key=target_fn)\n",
    "        next_value = target_fn(next_theta)\n",
    "\n",
    "        # tolerance만큼 수렴하면 멈춤\n",
    "        if abs(value - next_value) < tolerance:\n",
    "            return theta\n",
    "        else:\n",
    "            theta, value = next_theta, next_value\n",
    "\n",
    "def negate(f):\n",
    "    \"\"\"x를 입력하면 -f(x)를 반환해 주는 함수 생성\"\"\"\n",
    "    return lambda *args, **kwargs: -f(*args, **kwargs)\n",
    "\n",
    "def negate_all(f):\n",
    "    \"\"\"f가 여러 숫자를 반환할 때 모든 숫자를 음수로 변환\"\"\"\n",
    "    return lambda *args, **kwargs: [-y for y in f(*args, **kwargs)]\n",
    "\n",
    "def maximize_batch(target_fn, gradient_fn, theta_0, tolerance=0.000001):\n",
    "    return minimize_batch(negate(target_fn),\n",
    "                          negate_all(gradient_fn),\n",
    "                          theta_0,\n",
    "                          tolerance)"
   ]
  },
  {
   "cell_type": "code",
   "execution_count": 27,
   "metadata": {},
   "outputs": [
    {
     "name": "stdout",
     "output_type": "stream",
     "text": [
      "using minimize_batch\n",
      "[-4, -6, -5]\n",
      "minimum v [-0.0006646139978924582, -0.0009969209968386874, -0.0008307674973655728]\n",
      "minimum value 2.1257378748114955e-06\n"
     ]
    }
   ],
   "source": [
    "print(\"using minimize_batch\")\n",
    "v = [random.randint(-10,10) for i in range(3)]\n",
    "print (v)\n",
    "v = minimize_batch(sum_of_squares, sum_of_squares_gradient, v)\n",
    "\n",
    "print(\"minimum v\", v)\n",
    "print(\"minimum value\", sum_of_squares(v))"
   ]
  },
  {
   "cell_type": "code",
   "execution_count": null,
   "metadata": {
    "collapsed": true
   },
   "outputs": [],
   "source": []
  },
  {
   "cell_type": "markdown",
   "metadata": {},
   "source": [
    "## 8.6 SGD(stochastic gradient descent) "
   ]
  },
  {
   "cell_type": "code",
   "execution_count": 19,
   "metadata": {
    "collapsed": true
   },
   "outputs": [],
   "source": [
    "#\n",
    "# minimize / maximize stochastic\n",
    "#\n",
    "\n",
    "def in_random_order(data):\n",
    "    \"\"\"generator that returns the elements of data in random order\"\"\"\n",
    "    indexes = [i for i, _ in enumerate(data)]  # create a list of indexes\n",
    "    random.shuffle(indexes)                    # shuffle them\n",
    "    for i in indexes:                          # return the data in that order\n",
    "        yield data[i]"
   ]
  },
  {
   "cell_type": "code",
   "execution_count": 20,
   "metadata": {
    "collapsed": true
   },
   "outputs": [],
   "source": [
    "def minimize_stochastic(target_fn, gradient_fn, x, y, theta_0, alpha_0=0.01):\n",
    "\n",
    "    data = list(zip(x, y))\n",
    "    theta = theta_0                             # initial guess\n",
    "    alpha = alpha_0                             # initial step size\n",
    "    min_theta, min_value = None, float(\"inf\")   # the minimum so far\n",
    "    iterations_with_no_improvement = 0\n",
    "\n",
    "    # if we ever go 100 iterations with no improvement, stop\n",
    "    while iterations_with_no_improvement < 100:\n",
    "        value = sum( target_fn(x_i, y_i, theta) for x_i, y_i in data )\n",
    "\n",
    "        if value < min_value:\n",
    "            # if we've found a new minimum, remember it\n",
    "            # and go back to the original step size\n",
    "            min_theta, min_value = theta, value\n",
    "            iterations_with_no_improvement = 0\n",
    "            alpha = alpha_0\n",
    "        else:\n",
    "            # otherwise we're not improving, so try shrinking the step size\n",
    "            iterations_with_no_improvement += 1\n",
    "            alpha *= 0.9\n",
    "\n",
    "        # and take a gradient step for each of the data points\n",
    "        for x_i, y_i in in_random_order(data):\n",
    "            gradient_i = gradient_fn(x_i, y_i, theta)\n",
    "            theta = vector_subtract(theta, scalar_multiply(alpha, gradient_i))\n",
    "\n",
    "    return min_theta"
   ]
  },
  {
   "cell_type": "code",
   "execution_count": 21,
   "metadata": {
    "collapsed": true
   },
   "outputs": [],
   "source": [
    "def maximize_stochastic(target_fn, gradient_fn, x, y, theta_0, alpha_0=0.01):\n",
    "    return minimize_stochastic(negate(target_fn),\n",
    "                               negate_all(gradient_fn),\n",
    "                               x, y, theta_0, alpha_0)"
   ]
  },
  {
   "cell_type": "code",
   "execution_count": 22,
   "metadata": {
    "collapsed": true
   },
   "outputs": [],
   "source": [
    "# Test를 위한 예제들은 이후 ch14 등에서 제시됨, 현재 코드만으로는 활용에 대해 이해하기 어려우니 skip 할 것을 추천"
   ]
  },
  {
   "cell_type": "code",
   "execution_count": 23,
   "metadata": {},
   "outputs": [
    {
     "data": {
      "image/png": "[encoded data removed]",
      "text/plain": [
       "<matplotlib.figure.Figure at 0x1127985f8>"
      ]
     },
     "metadata": {},
     "output_type": "display_data"
    }
   ],
   "source": [
    "# Numpy version from : http://stackoverflow.com/questions/17784587/gradient-descent-using-python-and-numpy\n",
    "\n",
    "def genData(numPoints, bias, variance):\n",
    "    x = np.zeros(shape=(numPoints, 2))\n",
    "    y = np.zeros(shape=numPoints)\n",
    "    # basically a straight line\n",
    "    for i in range(0, numPoints):\n",
    "        # bias feature\n",
    "        x[i][0] = 1\n",
    "        x[i][1] = i\n",
    "        # our target variable\n",
    "        y[i] = (i+bias) + random.uniform(0, 1) * variance\n",
    "    return x, y\n",
    "\n",
    "# gen 100 points with a bias of 25 and 10 variance as a bit of noise\n",
    "x, y = genData(100, 25, 10)\n",
    "\n",
    "plt.plot(x[:,1]+1,y,\"ro\")\n",
    "plt.show()"
   ]
  },
  {
   "cell_type": "code",
   "execution_count": 24,
   "metadata": {},
   "outputs": [
    {
     "data": {
      "text/plain": [
       "array([ 30.41583494,   0.98721297])"
      ]
     },
     "execution_count": 24,
     "metadata": {},
     "output_type": "execute_result"
    }
   ],
   "source": [
    "# m denotes the number of examples here, not the number of features\n",
    "def gradientDescent(x, y, theta, alpha, m, numIterations):\n",
    "    xTrans = x.transpose()\n",
    "    theta_list = []\n",
    "    for i in range(0, numIterations):\n",
    "        hypothesis = np.dot(x, theta)\n",
    "        loss = hypothesis - y\n",
    "        \n",
    "        # avg cost per example (the 2 in 2*m doesn't really matter here.\n",
    "        # But to be consistent with the gradient, I include it)\n",
    "        cost = np.sum(loss ** 2) / (2 * m)\n",
    "        \n",
    "        gradient = np.dot(xTrans, loss) / m\n",
    "        # update\n",
    "        theta = theta - alpha * gradient\n",
    "        if i % 2500 == 0:\n",
    "            theta_list.append(theta)\n",
    "    return theta,np.array(theta_list)\n",
    "\n",
    "m, n = np.shape(x)\n",
    "numIterations= 50000\n",
    "alpha = 0.0005\n",
    "x.transpose()\n",
    "theta = np.ones(n)\n",
    "theta,theta_list = gradientDescent(x, y, theta, alpha, m, numIterations)\n",
    "\n",
    "theta"
   ]
  },
  {
   "cell_type": "code",
   "execution_count": 25,
   "metadata": {},
   "outputs": [
    {
     "data": {
      "image/png": "[encoded data removed]",
      "text/plain": [
       "<matplotlib.figure.Figure at 0x11275a4a8>"
      ]
     },
     "metadata": {},
     "output_type": "display_data"
    }
   ],
   "source": [
    "y_predict_step= np.dot(x, theta_list.transpose())\n",
    "plt.plot(x[:,1],y,\"ro\")\n",
    "for i in range (0,20,2):\n",
    "    plt.plot(x[:,1],y_predict_step[:,i], label='Line %d'%i)\n",
    "\n",
    "plt.legend(bbox_to_anchor=(1.05, 1), loc=2, borderaxespad=0.)\n",
    "plt.show()"
   ]
  },
  {
   "cell_type": "code",
   "execution_count": 27,
   "metadata": {},
   "outputs": [
    {
     "data": {
      "image/png": "[encoded data removed]",
      "text/plain": [
       "<matplotlib.figure.Figure at 0x1129dc320>"
      ]
     },
     "metadata": {},
     "output_type": "display_data"
    }
   ],
   "source": [
    "y_predict= np.dot(x, theta)\n",
    "\n",
    "plt.plot(x[:,1],y,\"ro\")\n",
    "plt.plot(x[:,1],y_predict, lw=3)\n",
    "plt.show()"
   ]
  },
  {
   "cell_type": "markdown",
   "metadata": {},
   "source": [
    "## 8.7 더 공부해 보고 싶다면\n",
    "* 계속 읽어 나가자! 이 책에서 문제를 풀면서 경사 하강법을 꾸준하게 사용할 것이다. (ch14)\n",
    "* 책 추천 : [Active Calulus](http://faculty.gvsu.edu/boelkinm/Home/Download.html) \n",
    "    * 일반적인 미적분한 책보다 친철한 편\n",
    "* `scikit-learn`에도 [SGD 모듈](http://scikit-learn.org/stable/modules/sgd.html)"
   ]
  }
 ],
 "metadata": {
  "kernelspec": {
   "display_name": "Python 3",
   "language": "python",
   "name": "python3"
  },
  "language_info": {
   "codemirror_mode": {
    "name": "ipython",
    "version": 3
   },
   "file_extension": ".py",
   "mimetype": "text/x-python",
   "name": "python",
   "nbconvert_exporter": "python",
   "pygments_lexer": "ipython3",
   "version": "3.6.3"
  }
 },
 "nbformat": 4,
 "nbformat_minor": 2
}
